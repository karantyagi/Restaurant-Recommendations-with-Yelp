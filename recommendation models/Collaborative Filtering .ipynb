{
 "cells": [
  {
   "cell_type": "markdown",
   "metadata": {},
   "source": [
    "<font size = '6' color = 'blue'> Collaborative Filtering </font>"
   ]
  },
  {
   "cell_type": "code",
   "execution_count": 1,
   "metadata": {},
   "outputs": [
    {
     "name": "stdout",
     "output_type": "stream",
     "text": [
      "Populating the interactive namespace from numpy and matplotlib\n"
     ]
    }
   ],
   "source": [
    "%pylab inline\n",
    "import warnings\n",
    "warnings.filterwarnings('ignore')"
   ]
  },
  {
   "cell_type": "code",
   "execution_count": 1,
   "metadata": {},
   "outputs": [
    {
     "name": "stderr",
     "output_type": "stream",
     "text": [
      "/Users/Shraddha/anaconda3/lib/python3.6/site-packages/sklearn/cross_validation.py:41: DeprecationWarning: This module was deprecated in version 0.18 in favor of the model_selection module into which all the refactored classes and functions are moved. Also note that the interface of the new CV iterators are different from that of this module. This module will be removed in 0.20.\n",
      "  \"This module will be removed in 0.20.\", DeprecationWarning)\n"
     ]
    }
   ],
   "source": [
    "# citation: https://cambridgespark.com/content/tutorials/implementing-your-own-recommender-systems-in-Python/index.html\n",
    "import pandas as pd\n",
    "import numpy as np\n",
    "import matplotlib.pyplot as plt\n",
    "import nltk\n",
    "from nltk.corpus import stopwords\n",
    "from sklearn import cross_validation as cv\n",
    "from sklearn.metrics.pairwise import pairwise_distances\n",
    "from sklearn.metrics import mean_squared_error\n",
    "from math import sqrt\n",
    "from sklearn.metrics import mean_absolute_error"
   ]
  },
  {
   "cell_type": "code",
   "execution_count": 2,
   "metadata": {
    "collapsed": true
   },
   "outputs": [],
   "source": [
    "def predict(ratings, similarity, type='user'):\n",
    "    if type == 'user':\n",
    "        mean_user_rating = ratings.mean(axis=1)\n",
    "        ratings_diff = (ratings - mean_user_rating[:, np.newaxis])\n",
    "        pred = mean_user_rating[:, np.newaxis] + similarity.dot(ratings_diff) / np.array([np.abs(similarity).sum(axis=1)]).T\n",
    "    elif type == 'item':\n",
    "        pred = ratings.dot(similarity) / np.array([np.abs(similarity).sum(axis=1)])\n",
    "    return pred\n",
    "\n",
    "def rmse(prediction, ground_truth):\n",
    "    prediction = prediction[ground_truth.nonzero()].flatten()\n",
    "    ground_truth = ground_truth[ground_truth.nonzero()].flatten()\n",
    "    return sqrt(mean_squared_error(prediction, ground_truth))\n",
    "\n",
    "def mae(prediction, ground_truth):\n",
    "    prediction = prediction[ground_truth.nonzero()].flatten()\n",
    "    ground_truth = ground_truth[ground_truth.nonzero()].flatten()\n",
    "    return mean_absolute_error(prediction, ground_truth)\n",
    "\n",
    "\n",
    "def collaborativeFiltering(reviews_source):\n",
    "    reviews = pd.read_csv(reviews_source)\n",
    "    reviews['text'] = reviews['text'].str[2:-2]\n",
    "\n",
    "    \n",
    "    print(\"Undersampling of the dataset started--------\")\n",
    "    \n",
    "    #Undersampling of the dataset to get a balanced dataset\n",
    "    review1 = reviews[reviews['stars'] == 1][0:12000]\n",
    "    review2 = reviews[reviews['stars'] == 2][0:7000]\n",
    "    review3 = reviews[reviews['stars'] == 3][0:12000]\n",
    "    review4 = reviews[reviews['stars'] == 4][0:12000]\n",
    "    review5 = reviews[reviews['stars'] == 5][0:12000]\n",
    "    frames = [review1, review2, review3,review4,review5]\n",
    "    reviews = pd.concat(frames)\n",
    "    \n",
    "    print(\"Undersampling of the dataset completed--------\")\n",
    "    \n",
    "    # converting user_id and business_id to integers for the matrix\n",
    "    reviews['user_id'] = pd.factorize(reviews.user_id)[0]\n",
    "    reviews['business_id'] = pd.factorize(reviews.business_id)[0]\n",
    "    \n",
    "    # getting the number unique users and restaurants\n",
    "    unique_users = reviews.user_id.unique().shape[0]\n",
    "    unique_restaurants = reviews.business_id.unique().shape[0]\n",
    "    \n",
    "    #splitting the dataset\n",
    "    train_data, test_data = cv.train_test_split(reviews, test_size=0.20)\n",
    "\n",
    "    #Create two user-item matrices, one for training and another for testing\n",
    "    train_data_matrix = np.zeros((unique_users, unique_restaurants))\n",
    "    \n",
    "    print(\"Creation of user-item matrix started--------\")\n",
    "    \n",
    "    # train_data_matrix\n",
    "    for line in train_data.itertuples():\n",
    "         train_data_matrix[line[3], line[2]] = line[5]\n",
    "            \n",
    "    # test_data_matrix\n",
    "    test_data_matrix = np.zeros((unique_users, unique_restaurants))\n",
    "    for line in test_data.itertuples():\n",
    "        test_data_matrix[line[3], line[2]] = line[5]\n",
    "    \n",
    "    print(\"Creation of user-item matrix completed--------\")\n",
    "    \n",
    "    print(\"Creation of similarity matrix started--------\")\n",
    "    \n",
    "    # calculating similarity between users\n",
    "    user_similarity = pairwise_distances(train_data_matrix, metric='cosine')\n",
    "    # calculating similarity between items\n",
    "    item_similarity = pairwise_distances(train_data_matrix.T, metric='cosine')\n",
    "    \n",
    "    print(\"Creation of similarity matrix completed--------\")\n",
    "    \n",
    "    \n",
    "    print(\"Creation of prediction matrix started--------\")\n",
    "    \n",
    "    item_prediction = predict(train_data_matrix, item_similarity, type='item')\n",
    "    user_prediction = predict(train_data_matrix, user_similarity, type='user')\n",
    "    \n",
    "    print(\"Creation of prediction matrix completed--------\")\n",
    "    \n",
    "    print('Printing the RMSE and MAE------------' + '\\n')\n",
    "    \n",
    "    if reviews_source == 'reviews_restaurants_text.csv':\n",
    "        rating_type = 'biased rating'\n",
    "    elif reviews_source == 'reviews_restaurants_text_LinearSVM.csv':\n",
    "        rating_type = 'unbiased rating from Linear SVM'\n",
    "    else:\n",
    "        rating_type = 'unbiased rating from Naive Bayes'\n",
    "    print ('Root Mean Square Error while testing the model using ' + rating_type)\n",
    "    print ('User-based CF RMSE: ' + str(rmse(user_prediction, test_data_matrix)))\n",
    "    print ('Item-based CF RMSE: ' + str(rmse(item_prediction, test_data_matrix)) + '\\n')\n",
    "\n",
    "    print ('Root Mean Square Error while training the model using ' + rating_type)\n",
    "    print ('User-based CF RMSE: ' + str(rmse(user_prediction, train_data_matrix)))\n",
    "    print ('Item-based CF RMSE: ' + str(rmse(item_prediction, train_data_matrix)) + '\\n')\n",
    "    \n",
    "    print ('Mean Absolute Error while testing the model using ' + rating_type)\n",
    "    print ('User-based CF MAE: ' + str(mae(user_prediction, test_data_matrix)))\n",
    "    print ('Item-based CF MAE: ' + str(mae(item_prediction, test_data_matrix)) + '\\n')\n",
    "\n",
    "    print ('Mean Absolute Error while training the model using ' + rating_type)\n",
    "    print ('User-based CF MAE: ' + str(mae(user_prediction, train_data_matrix)))\n",
    "    print ('Item-based CF MAE: ' + str(mae(item_prediction, train_data_matrix)) + '\\n')   "
   ]
  },
  {
   "cell_type": "markdown",
   "metadata": {},
   "source": [
    "<font size = '5' color = 'blue'>Collaborative filtering using biased rating</font>"
   ]
  },
  {
   "cell_type": "code",
   "execution_count": 4,
   "metadata": {},
   "outputs": [
    {
     "name": "stdout",
     "output_type": "stream",
     "text": [
      "Undersampling of the dataset started--------\n",
      "Undersampling of the dataset completed--------\n",
      "Creation of user-item matrix started--------\n",
      "Creation of user-item matrix completed--------\n",
      "Creation of similarity matrix started--------\n",
      "Creation of similarity matrix completed--------\n",
      "Creation of prediction matrix started--------\n",
      "Creation of prediction matrix completed--------\n",
      "Printing the RMSE and MAE------------\n",
      "Root Mean Square Error while testing the model using biased rating\n",
      "\n",
      "User-based CF RMSE: 3.4224251658150537\n",
      "Item-based CF RMSE: 3.4244977815398223\n",
      "Root Mean Square Error while testing the model using biased rating\n",
      "\n",
      "User-based CF RMSE: 3.4059797325229546\n",
      "Item-based CF RMSE: 3.4068094068976698\n",
      "Mean Absolute Error while testing the model using biased rating\n",
      "\n",
      "User-based CF MAE: 3.10118322299\n",
      "Item-based CF MAE: 3.10332547733\n",
      "Mean Absolute Error while training the model using biased rating\n",
      "\n",
      "User-based CF MAE: 3.08609887518\n",
      "Item-based CF MAE: 3.086804974\n"
     ]
    }
   ],
   "source": [
    "collaborativeFiltering('reviews_restaurants_text.csv')"
   ]
  },
  {
   "cell_type": "markdown",
   "metadata": {
    "collapsed": true
   },
   "source": [
    "<font size = '5' color = 'blue'>Collaborative filtering using unbiased rating from Linear SVM</font>"
   ]
  },
  {
   "cell_type": "code",
   "execution_count": 6,
   "metadata": {},
   "outputs": [
    {
     "name": "stdout",
     "output_type": "stream",
     "text": [
      "Undersampling of the dataset started--------\n",
      "Undersampling of the dataset completed--------\n",
      "Creation of user-item matrix started--------\n",
      "Creation of user-item matrix completed--------\n",
      "Creation of similarity matrix started--------\n",
      "Creation of similarity matrix completed--------\n",
      "Creation of prediction matrix started--------\n",
      "Creation of prediction matrix completed--------\n",
      "Printing the RMSE and MAE------------\n",
      "Root Mean Square Error while testing the model using unbiased rating from Linear SVM\n",
      "User-based CF RMSE: 3.3930751924760343\n",
      "Item-based CF RMSE: 3.395080653479287\n",
      "\n",
      "Root Mean Square Error while training the model using unbiased rating from Linear SVM\n",
      "User-based CF RMSE: 3.4133323262548423\n",
      "Item-based CF RMSE: 3.4141643344383974\n",
      "\n",
      "Mean Absolute Error while testing the model using unbiased rating from Linear SVM\n",
      "User-based CF MAE: 3.07344432866\n",
      "Item-based CF MAE: 3.07549327049\n",
      "\n",
      "Mean Absolute Error while training the model using unbiased rating from Linear SVM\n",
      "User-based CF MAE: 3.09305799213\n",
      "Item-based CF MAE: 3.09376563041\n",
      "\n"
     ]
    }
   ],
   "source": [
    "collaborativeFiltering('reviews_restaurants_text_LinearSVM.csv')"
   ]
  },
  {
   "cell_type": "markdown",
   "metadata": {},
   "source": [
    "<font size = '5' color = 'blue'>Collaborative filtering using unbiased rating from Naive Bayes</font>"
   ]
  },
  {
   "cell_type": "code",
   "execution_count": 11,
   "metadata": {},
   "outputs": [
    {
     "name": "stdout",
     "output_type": "stream",
     "text": [
      "Undersampling of the dataset started--------\n",
      "Undersampling of the dataset completed--------\n",
      "Creation of user-item matrix started--------\n",
      "Creation of user-item matrix completed--------\n",
      "Creation of similarity matrix started--------\n",
      "Creation of similarity matrix completed--------\n",
      "Creation of prediction matrix started--------\n",
      "Creation of prediction matrix completed--------\n",
      "Printing the RMSE and MAE------------\n",
      "\n",
      "Root Mean Square Error while testing the model using unbiased rating from Naive Bayes\n",
      "User-based CF RMSE: 3.572904578536179\n",
      "Item-based CF RMSE: 3.5750603264816747\n",
      "\n",
      "Root Mean Square Error while training the model using unbiased rating from Naive Bayes\n",
      "User-based CF RMSE: 3.567457513507413\n",
      "Item-based CF RMSE: 3.5683351784692414\n",
      "\n",
      "Mean Absolute Error while testing the model using unbiased rating from Naive Bayes\n",
      "User-based CF MAE: 3.22686737475\n",
      "Item-based CF MAE: 3.22908543246\n",
      "\n",
      "Mean Absolute Error while training the model using unbiased rating from Naive Bayes\n",
      "User-based CF MAE: 3.21909414996\n",
      "Item-based CF MAE: 3.21982610211\n",
      "\n"
     ]
    }
   ],
   "source": [
    "collaborativeFiltering('reviews_restaurants_text_NaiveBayes.csv')"
   ]
  }
 ],
 "metadata": {
  "kernelspec": {
   "display_name": "Python 3",
   "language": "python",
   "name": "python3"
  },
  "language_info": {
   "codemirror_mode": {
    "name": "ipython",
    "version": 3
   },
   "file_extension": ".py",
   "mimetype": "text/x-python",
   "name": "python",
   "nbconvert_exporter": "python",
   "pygments_lexer": "ipython3",
   "version": "3.6.3"
  }
 },
 "nbformat": 4,
 "nbformat_minor": 2
}
