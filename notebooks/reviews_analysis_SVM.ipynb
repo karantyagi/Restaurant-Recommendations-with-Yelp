{
 "cells": [
  {
   "cell_type": "code",
   "execution_count": 200,
   "metadata": {},
   "outputs": [
    {
     "name": "stdout",
     "output_type": "stream",
     "text": [
      "Populating the interactive namespace from numpy and matplotlib\n"
     ]
    }
   ],
   "source": [
    "%pylab inline\n",
    "import warnings\n",
    "warnings.filterwarnings('ignore')"
   ]
  },
  {
   "cell_type": "code",
   "execution_count": 201,
   "metadata": {
    "collapsed": true
   },
   "outputs": [],
   "source": [
    "from IPython.core.interactiveshell import InteractiveShell\n",
    "InteractiveShell.ast_node_interactivity = \"all\""
   ]
  },
  {
   "cell_type": "code",
   "execution_count": 202,
   "metadata": {
    "collapsed": true
   },
   "outputs": [],
   "source": [
    "# Displaying max-height of 8000 px without scrolling, for cleaner visual representation\n",
    "# source : stackoverflow\n",
    "# https://stackoverflow.com/questions/18770504/resize-ipython-notebook-output-window"
   ]
  },
  {
   "cell_type": "code",
   "execution_count": 203,
   "metadata": {},
   "outputs": [
    {
     "data": {
      "text/html": [
       "<style>\n",
       ".output_wrapper, .output {\n",
       "    height:auto !important;\n",
       "    max-height:2000px;  /* your desired max-height here */\n",
       "}\n",
       ".output_scroll {\n",
       "    box-shadow:none !important;\n",
       "    webkit-box-shadow:none !important;\n",
       "}\n",
       "</style>"
      ],
      "text/plain": [
       "<IPython.core.display.HTML object>"
      ]
     },
     "metadata": {},
     "output_type": "display_data"
    }
   ],
   "source": [
    "%%html\n",
    "<style>\n",
    ".output_wrapper, .output {\n",
    "    height:auto !important;\n",
    "    max-height:2000px;  /* your desired max-height here */\n",
    "}\n",
    ".output_scroll {\n",
    "    box-shadow:none !important;\n",
    "    webkit-box-shadow:none !important;\n",
    "}\n",
    "</style>"
   ]
  },
  {
   "cell_type": "code",
   "execution_count": 204,
   "metadata": {},
   "outputs": [
    {
     "name": "stdout",
     "output_type": "stream",
     "text": [
      "Wall time: 0 ns\n"
     ]
    }
   ],
   "source": [
    "%%time\n",
    "\n",
    "# Loading libraries\n",
    "\n",
    "import pandas as pd\n",
    "import numpy as np\n",
    "import matplotlib.pyplot as plt\n",
    "import seaborn as sns\n",
    "import nltk\n",
    "from nltk.corpus import stopwords\n",
    "# nltk.download('stopwords')\n",
    "\n",
    "# pip install tqdm\n",
    "from tqdm import tqdm_notebook as tqdm\n",
    "\n",
    "from collections import Counter"
   ]
  },
  {
   "cell_type": "code",
   "execution_count": 207,
   "metadata": {
    "collapsed": true
   },
   "outputs": [],
   "source": [
    "# Loading data-set : reviews dataset with reviews of length 100-200 for restaurants ONLY."
   ]
  },
  {
   "cell_type": "code",
   "execution_count": 209,
   "metadata": {},
   "outputs": [
    {
     "data": {
      "text/html": [
       "<div>\n",
       "<style>\n",
       "    .dataframe thead tr:only-child th {\n",
       "        text-align: right;\n",
       "    }\n",
       "\n",
       "    .dataframe thead th {\n",
       "        text-align: left;\n",
       "    }\n",
       "\n",
       "    .dataframe tbody tr th {\n",
       "        vertical-align: top;\n",
       "    }\n",
       "</style>\n",
       "<table border=\"1\" class=\"dataframe\">\n",
       "  <thead>\n",
       "    <tr style=\"text-align: right;\">\n",
       "      <th></th>\n",
       "      <th>review_id</th>\n",
       "      <th>business_id</th>\n",
       "      <th>user_id</th>\n",
       "      <th>text</th>\n",
       "      <th>stars</th>\n",
       "    </tr>\n",
       "  </thead>\n",
       "  <tbody>\n",
       "    <tr>\n",
       "      <th>0</th>\n",
       "      <td>8oFUMhJ7fR2-X3We9TiK7g</td>\n",
       "      <td>kfo1hXvNtGGThfrZGaWtVw</td>\n",
       "      <td>tL2pS5UOmN6aAOi3Z-qFGg</td>\n",
       "      <td>b\"I've been here a few times over the years. I...</td>\n",
       "      <td>4</td>\n",
       "    </tr>\n",
       "    <tr>\n",
       "      <th>1</th>\n",
       "      <td>xryg94pDLOO71veGcQINuQ</td>\n",
       "      <td>dfRAK2mgdHbL2_YsFqtCdQ</td>\n",
       "      <td>tL2pS5UOmN6aAOi3Z-qFGg</td>\n",
       "      <td>b\"I used to come here back in the 90s when thi...</td>\n",
       "      <td>1</td>\n",
       "    </tr>\n",
       "    <tr>\n",
       "      <th>2</th>\n",
       "      <td>adNS6X4TnaxuFFxzoezGzg</td>\n",
       "      <td>So132GP_uy3XbGs0KNyzyw</td>\n",
       "      <td>tL2pS5UOmN6aAOi3Z-qFGg</td>\n",
       "      <td>b\"I've eaten here a couple of times. Great foo...</td>\n",
       "      <td>5</td>\n",
       "    </tr>\n",
       "    <tr>\n",
       "      <th>3</th>\n",
       "      <td>JyOWXyxpN0PmPAF3OXkfCQ</td>\n",
       "      <td>cZBCVzd4lg_jx8IiFz-Iag</td>\n",
       "      <td>tL2pS5UOmN6aAOi3Z-qFGg</td>\n",
       "      <td>b\"Have grabbed a quick bite to eat hear many t...</td>\n",
       "      <td>4</td>\n",
       "    </tr>\n",
       "    <tr>\n",
       "      <th>4</th>\n",
       "      <td>ClB81WvkDJwDnHN6evg84w</td>\n",
       "      <td>WzkbnhI-fxdH_tMzT3evtA</td>\n",
       "      <td>tL2pS5UOmN6aAOi3Z-qFGg</td>\n",
       "      <td>b'This is one of the best bars in town. Not ma...</td>\n",
       "      <td>5</td>\n",
       "    </tr>\n",
       "  </tbody>\n",
       "</table>\n",
       "</div>"
      ],
      "text/plain": [
       "                review_id             business_id                 user_id  \\\n",
       "0  8oFUMhJ7fR2-X3We9TiK7g  kfo1hXvNtGGThfrZGaWtVw  tL2pS5UOmN6aAOi3Z-qFGg   \n",
       "1  xryg94pDLOO71veGcQINuQ  dfRAK2mgdHbL2_YsFqtCdQ  tL2pS5UOmN6aAOi3Z-qFGg   \n",
       "2  adNS6X4TnaxuFFxzoezGzg  So132GP_uy3XbGs0KNyzyw  tL2pS5UOmN6aAOi3Z-qFGg   \n",
       "3  JyOWXyxpN0PmPAF3OXkfCQ  cZBCVzd4lg_jx8IiFz-Iag  tL2pS5UOmN6aAOi3Z-qFGg   \n",
       "4  ClB81WvkDJwDnHN6evg84w  WzkbnhI-fxdH_tMzT3evtA  tL2pS5UOmN6aAOi3Z-qFGg   \n",
       "\n",
       "                                                text  stars  \n",
       "0  b\"I've been here a few times over the years. I...      4  \n",
       "1  b\"I used to come here back in the 90s when thi...      1  \n",
       "2  b\"I've eaten here a couple of times. Great foo...      5  \n",
       "3  b\"Have grabbed a quick bite to eat hear many t...      4  \n",
       "4  b'This is one of the best bars in town. Not ma...      5  "
      ]
     },
     "metadata": {},
     "output_type": "display_data"
    },
    {
     "name": "stdout",
     "output_type": "stream",
     "text": [
      "Wall time: 723 ms\n"
     ]
    }
   ],
   "source": [
    "%%time\n",
    "\n",
    "# check what is low -memory parameter ??\n",
    "# COMPLETE REVIEWS FOR RESTAURANTS - ALL REVIEW WORD LENGTH\n",
    "\n",
    "# col_names = ['review_id', 'business_id', 'user_id', 'text', 'stars', 'text length']\n",
    "\n",
    "reviews_dataset = pd.read_csv('reviews_restaurants_text.csv', low_memory= False)\n",
    "display(reviews_dataset.head())"
   ]
  },
  {
   "cell_type": "code",
   "execution_count": 210,
   "metadata": {},
   "outputs": [
    {
     "name": "stdout",
     "output_type": "stream",
     "text": [
      "Total No. of Reviews: 154737\n"
     ]
    }
   ],
   "source": [
    "# reviews_dataset.shape[0] - gives number of row count\n",
    "print(\"Total No. of Reviews: {}\".format(reviews_dataset.shape[0]))"
   ]
  },
  {
   "cell_type": "code",
   "execution_count": 211,
   "metadata": {},
   "outputs": [
    {
     "data": {
      "text/plain": [
       "(154737, 5)"
      ]
     },
     "execution_count": 211,
     "metadata": {},
     "output_type": "execute_result"
    }
   ],
   "source": [
    "reviews_dataset.shape"
   ]
  },
  {
   "cell_type": "code",
   "execution_count": 212,
   "metadata": {
    "collapsed": true
   },
   "outputs": [],
   "source": [
    "import string\n",
    "def get_clean_text(text):\n",
    "    \n",
    "    '''\n",
    "    Takes in a string of text, then performs the following:\n",
    "    1. Performs case normalization\n",
    "    2. Remove all punctuation\n",
    "    3. Remove all stopwords\n",
    "    4. Return the cleaned text as a list of words\n",
    "    '''\n",
    "    stopwords = nltk.corpus.stopwords.words('english')\n",
    "    newStopWords = ['ive','hadnt','couldnt','didnt', 'id']  ## more can also be added upon analysis\n",
    "    stopwords.extend(newStopWords)\n",
    "    \n",
    "    \n",
    "    # text format of b'Review_starts' is beacuse of some encofing stuff, so we will remove it to make our review a \n",
    "    # string like 'sample review'\n",
    "    text = text[2: len(sample_review)-1].lower()  ##  case normalization\n",
    "    #display(text)\n",
    "    \n",
    "    text = text.replace('\\\\n', ' ').replace('\\\\t', ' ')\n",
    "    #display(text)\n",
    "    nopunc = [char for char in text if char not in string.punctuation]\n",
    "    nopunc = ''.join(nopunc)\n",
    "    \n",
    "    #display(nopunc)\n",
    "    \n",
    "    l = [word for word in nopunc.split() if word.lower() not in stopwords]\n",
    "    clean_text = \"\"\n",
    "    for word in l:\n",
    "        clean_text += str(word)+\" \"\n",
    "    \n",
    "    return clean_text.strip()"
   ]
  },
  {
   "cell_type": "code",
   "execution_count": 213,
   "metadata": {},
   "outputs": [
    {
     "data": {
      "text/plain": [
       "'great food wonderful friendly service four times satisfied every time youve never give mamaoh shot spicy beef soup'"
      ]
     },
     "metadata": {},
     "output_type": "display_data"
    }
   ],
   "source": [
    "# TEST \n",
    "# get_clean_text()\n",
    "\n",
    "display(get_clean_text(reviews_dataset.text[22]))"
   ]
  },
  {
   "cell_type": "code",
   "execution_count": 214,
   "metadata": {},
   "outputs": [],
   "source": [
    "import string\n",
    "def get_words(text):\n",
    "    \n",
    "    '''\n",
    "    Takes in a string of text, then performs the following:\n",
    "    1. Performs case normalization\n",
    "    2. Remove all punctuation\n",
    "    3. Remove all stopwords\n",
    "    4. Return the cleaned text as a list of words\n",
    "    '''\n",
    "    stopwords = nltk.corpus.stopwords.words('english')\n",
    "    newStopWords = ['ive','hadnt','couldnt','didnt', 'id']  ## more can also be added upon analysis\n",
    "    stopwords.extend(newStopWords)\n",
    "    \n",
    "    \n",
    "    # text format of b'Review_starts' is beacuse of some encofing stuff, so we will remove it to make our review a \n",
    "    # string like 'sample review'\n",
    "    text = text[2: len(sample_review)-1].lower()  ##  case normalization\n",
    "    #display(text)\n",
    "    \n",
    "    text = text.replace('\\\\n', ' ').replace('\\\\t', ' ')\n",
    "    display(text)\n",
    "    nopunc = [char for char in text if char not in string.punctuation]\n",
    "    nopunc = ''.join(nopunc)\n",
    "    \n",
    "    display(nopunc)\n",
    "    \n",
    "    l = [word for word in nopunc.split() if word.lower() not in stopwords]\n",
    "    \n",
    "    return l, len(l)"
   ]
  },
  {
   "cell_type": "code",
   "execution_count": 215,
   "metadata": {},
   "outputs": [
    {
     "data": {
      "text/plain": [
       "\"i've been here a few times over the years. i'd probably eat here more if i didn't live on the opposite side of town.  i've always enjoyed my experience here and look forward to eating there again.\""
      ]
     },
     "metadata": {},
     "output_type": "display_data"
    },
    {
     "data": {
      "text/plain": [
       "'ive been here a few times over the years id probably eat here more if i didnt live on the opposite side of town  ive always enjoyed my experience here and look forward to eating there again'"
      ]
     },
     "metadata": {},
     "output_type": "display_data"
    },
    {
     "data": {
      "text/plain": [
       "['times',\n",
       " 'years',\n",
       " 'probably',\n",
       " 'eat',\n",
       " 'live',\n",
       " 'opposite',\n",
       " 'side',\n",
       " 'town',\n",
       " 'always',\n",
       " 'enjoyed',\n",
       " 'experience',\n",
       " 'look',\n",
       " 'forward',\n",
       " 'eating']"
      ]
     },
     "metadata": {},
     "output_type": "display_data"
    }
   ],
   "source": [
    "for i in range(1):\n",
    "    sample_review = str(reviews_dataset.text[i])\n",
    "    #display(sample_review)\n",
    "    check = get_words(sample_review)\n",
    "    display(check[0]) # a tuple"
   ]
  },
  {
   "cell_type": "code",
   "execution_count": 216,
   "metadata": {},
   "outputs": [
    {
     "data": {
      "text/html": [
       "<div>\n",
       "<style>\n",
       "    .dataframe thead tr:only-child th {\n",
       "        text-align: right;\n",
       "    }\n",
       "\n",
       "    .dataframe thead th {\n",
       "        text-align: left;\n",
       "    }\n",
       "\n",
       "    .dataframe tbody tr th {\n",
       "        vertical-align: top;\n",
       "    }\n",
       "</style>\n",
       "<table border=\"1\" class=\"dataframe\">\n",
       "  <thead>\n",
       "    <tr style=\"text-align: right;\">\n",
       "      <th></th>\n",
       "      <th>stars</th>\n",
       "    </tr>\n",
       "  </thead>\n",
       "  <tbody>\n",
       "    <tr>\n",
       "      <th>count</th>\n",
       "      <td>154737.00</td>\n",
       "    </tr>\n",
       "    <tr>\n",
       "      <th>mean</th>\n",
       "      <td>4.08</td>\n",
       "    </tr>\n",
       "    <tr>\n",
       "      <th>std</th>\n",
       "      <td>1.29</td>\n",
       "    </tr>\n",
       "    <tr>\n",
       "      <th>min</th>\n",
       "      <td>1.00</td>\n",
       "    </tr>\n",
       "    <tr>\n",
       "      <th>25%</th>\n",
       "      <td>4.00</td>\n",
       "    </tr>\n",
       "    <tr>\n",
       "      <th>50%</th>\n",
       "      <td>5.00</td>\n",
       "    </tr>\n",
       "    <tr>\n",
       "      <th>75%</th>\n",
       "      <td>5.00</td>\n",
       "    </tr>\n",
       "    <tr>\n",
       "      <th>max</th>\n",
       "      <td>5.00</td>\n",
       "    </tr>\n",
       "  </tbody>\n",
       "</table>\n",
       "</div>"
      ],
      "text/plain": [
       "           stars\n",
       "count  154737.00\n",
       "mean        4.08\n",
       "std         1.29\n",
       "min         1.00\n",
       "25%         4.00\n",
       "50%         5.00\n",
       "75%         5.00\n",
       "max         5.00"
      ]
     },
     "execution_count": 216,
     "metadata": {},
     "output_type": "execute_result"
    }
   ],
   "source": [
    "pd.set_option('display.precision', 2)\n",
    "reviews_dataset.describe()"
   ]
  },
  {
   "cell_type": "code",
   "execution_count": 217,
   "metadata": {},
   "outputs": [
    {
     "data": {
      "text/plain": [
       "5    85332\n",
       "4    33569\n",
       "1    14055\n",
       "3    13382\n",
       "2     8399\n",
       "Name: stars, dtype: int64"
      ]
     },
     "execution_count": 217,
     "metadata": {},
     "output_type": "execute_result"
    },
    {
     "data": {
      "text/plain": [
       "pandas.core.series.Series"
      ]
     },
     "execution_count": 217,
     "metadata": {},
     "output_type": "execute_result"
    }
   ],
   "source": [
    "reviews_dataset[\"stars\"].value_counts()\n",
    "type(reviews_dataset[\"stars\"].value_counts())"
   ]
  },
  {
   "cell_type": "code",
   "execution_count": 218,
   "metadata": {},
   "outputs": [
    {
     "data": {
      "text/plain": [
       "([<matplotlib.patches.Wedge at 0x26f2087e7f0>,\n",
       "  <matplotlib.patches.Wedge at 0x26f2089f9b0>,\n",
       "  <matplotlib.patches.Wedge at 0x26f20885ba8>,\n",
       "  <matplotlib.patches.Wedge at 0x26f20862da0>,\n",
       "  <matplotlib.patches.Wedge at 0x26f1ce79f98>],\n",
       " [<matplotlib.text.Text at 0x26f2087ef60>,\n",
       "  <matplotlib.text.Text at 0x26f20885198>,\n",
       "  <matplotlib.text.Text at 0x26f20862390>,\n",
       "  <matplotlib.text.Text at 0x26f1ce79588>,\n",
       "  <matplotlib.text.Text at 0x26f1ce9c780>],\n",
       " [<matplotlib.text.Text at 0x26f2089f470>,\n",
       "  <matplotlib.text.Text at 0x26f20885668>,\n",
       "  <matplotlib.text.Text at 0x26f20862860>,\n",
       "  <matplotlib.text.Text at 0x26f1ce79a58>,\n",
       "  <matplotlib.text.Text at 0x26f1ce9cc50>])"
      ]
     },
     "execution_count": 218,
     "metadata": {},
     "output_type": "execute_result"
    },
    {
     "data": {
      "text/plain": [
       "(-1.0098584524766165, 1.0, -1.0197864874675362, 1.0102893450652646)"
      ]
     },
     "execution_count": 218,
     "metadata": {},
     "output_type": "execute_result"
    },
    {
     "data": {
      "image/png": "[encoded data removed]",
      "text/plain": [
       "<matplotlib.figure.Figure at 0x26f1a774ac8>"
      ]
     },
     "metadata": {},
     "output_type": "display_data"
    }
   ],
   "source": [
    "labels = '5-Stars', '4-Stars', '1-Star', '3-Stars', '2-Stars'\n",
    "sizes = reviews_dataset[\"stars\"].value_counts()\n",
    "colors = ['lightpink', 'yellowgreen', 'orange', 'lightskyblue','green']\n",
    " \n",
    "# Plot\n",
    "plt.pie(sizes, labels=labels, colors =colors, autopct='%1.1f%%') \n",
    "plt.axis('equal')\n",
    "plt.show()"
   ]
  },
  {
   "cell_type": "code",
   "execution_count": 16,
   "metadata": {
    "collapsed": true
   },
   "outputs": [],
   "source": [
    "#  imbalanced data set\n",
    "## How to handle problem of imbalance ??"
   ]
  },
  {
   "cell_type": "code",
   "execution_count": 219,
   "metadata": {},
   "outputs": [],
   "source": [
    "#Select 1 other approach;\n",
    "\n",
    "## 2nd approach is - splitting into training and test... randomly but in equal proportion..\n",
    "## and applying cross validation on top of it.."
   ]
  },
  {
   "cell_type": "markdown",
   "metadata": {
    "collapsed": true
   },
   "source": [
    "## Approach 1 - Using imbalanced data as it is."
   ]
  },
  {
   "cell_type": "markdown",
   "metadata": {},
   "source": [
    "### Loading clean data into texts list"
   ]
  },
  {
   "cell_type": "code",
   "execution_count": 220,
   "metadata": {},
   "outputs": [
    {
     "data": {
      "application/vnd.jupyter.widget-view+json": {
       "model_id": "d76efdcfa5024aaca1a2acd626674b61",
       "version_major": 2,
       "version_minor": 0
      },
      "text/plain": [
       "A Jupyter Widget"
      ]
     },
     "metadata": {},
     "output_type": "display_data"
    },
    {
     "name": "stdout",
     "output_type": "stream",
     "text": [
      "\n"
     ]
    },
    {
     "name": "stderr",
     "output_type": "stream",
     "text": [
      "Exception in thread Thread-8:\n",
      "Traceback (most recent call last):\n",
      "  File \"G:\\ProgramFiles\\Anaconda3\\lib\\threading.py\", line 916, in _bootstrap_inner\n",
      "    self.run()\n",
      "  File \"G:\\ProgramFiles\\Anaconda3\\lib\\site-packages\\tqdm\\_tqdm.py\", line 144, in run\n",
      "    for instance in self.tqdm_cls._instances:\n",
      "  File \"G:\\ProgramFiles\\Anaconda3\\lib\\_weakrefset.py\", line 60, in __iter__\n",
      "    for itemref in self.data:\n",
      "RuntimeError: Set changed size during iteration\n",
      "\n"
     ]
    },
    {
     "name": "stdout",
     "output_type": "stream",
     "text": [
      "\n",
      "Wall time: 1min 42s\n"
     ]
    }
   ],
   "source": [
    "%%time\n",
    "# we're interested in the text of each review \n",
    "# and the stars rating, so we load these into \n",
    "# separate lists\n",
    "\n",
    "texts = []\n",
    "stars = [reviews_dataset['stars'] for review in reviews_dataset]\n",
    "pbar = tqdm(total=reviews_dataset.shape[0]+1)\n",
    "for index, row in reviews_dataset.iterrows():\n",
    "    texts.append(get_clean_text(row['text']))\n",
    "    pbar.update(1)\n",
    "pbar.close()"
   ]
  },
  {
   "cell_type": "code",
   "execution_count": 223,
   "metadata": {
    "collapsed": true
   },
   "outputs": [],
   "source": [
    "# Vectorizing our Text Data - the TF-IDF algorithm along with n-grams\n",
    "# and tokenization (splitting the text into individual words)."
   ]
  },
  {
   "cell_type": "code",
   "execution_count": 224,
   "metadata": {
    "collapsed": true
   },
   "outputs": [],
   "source": [
    "# show word clouds here "
   ]
  },
  {
   "cell_type": "code",
   "execution_count": 225,
   "metadata": {},
   "outputs": [
    {
     "name": "stdout",
     "output_type": "stream",
     "text": [
      "Wall time: 25.6 s\n"
     ]
    }
   ],
   "source": [
    "%%time\n",
    "\n",
    "from sklearn.feature_extraction.text import TfidfVectorizer\n",
    "\n",
    "# This vectorizer breaks text into single words and bi-grams\n",
    "# and then calculates the TF-IDF representation\n",
    "vectorizer = TfidfVectorizer(ngram_range=(1,3))\n",
    "\n",
    "# the 'fit' builds up the vocabulary from all the reviews\n",
    "# while the 'transform' step turns each indivdual text into\n",
    "# a matrix of numbers.\n",
    "vectors = vectorizer.fit_transform(texts)"
   ]
  },
  {
   "cell_type": "markdown",
   "metadata": {},
   "source": [
    "## Creating a Train/Test Data"
   ]
  },
  {
   "cell_type": "code",
   "execution_count": 226,
   "metadata": {
    "collapsed": true
   },
   "outputs": [],
   "source": [
    "# random sampling ?\n",
    "# cross-validation ?"
   ]
  },
  {
   "cell_type": "code",
   "execution_count": 227,
   "metadata": {
    "collapsed": true
   },
   "outputs": [],
   "source": [
    "from sklearn.model_selection import train_test_split\n",
    "X_train, X_test, y_train, y_test = train_test_split(vectors, stars[1], test_size=0.20, random_state=42)"
   ]
  },
  {
   "cell_type": "code",
   "execution_count": 228,
   "metadata": {
    "collapsed": true
   },
   "outputs": [],
   "source": [
    "# We now have a third of our data in X_test and y_test. We’ll teach our system using two-thirds\n",
    "# of the data (X_train and y_train), and then see how well it does by comparing its predictions for \n",
    "# the reviews in X_test with the real ratings in y_test."
   ]
  },
  {
   "cell_type": "markdown",
   "metadata": {},
   "source": [
    "### Fitting a Classifier and Making Predictions\n",
    "The classifier we’ll use is a Linear Support Vector Machine (SVM), \n",
    "which has been shown to perform well on several text classifications tasks."
   ]
  },
  {
   "cell_type": "code",
   "execution_count": 229,
   "metadata": {},
   "outputs": [
    {
     "name": "stdout",
     "output_type": "stream",
     "text": [
      "Wall time: 11.6 s\n"
     ]
    }
   ],
   "source": [
    "%%time\n",
    "\n",
    "from sklearn.svm import LinearSVC\n",
    "\n",
    "# initialise the SVM classifier\n",
    "classifier = LinearSVC()\n",
    "\n",
    "# train the classifier\n",
    "classifier.fit(X_train, y_train)"
   ]
  },
  {
   "cell_type": "code",
   "execution_count": 230,
   "metadata": {
    "collapsed": true
   },
   "outputs": [],
   "source": [
    "# classifier has been fitted, it can now be used to make predictions. \n",
    "# predicting the rating for the first ten reviews in our test set"
   ]
  },
  {
   "cell_type": "code",
   "execution_count": 231,
   "metadata": {},
   "outputs": [
    {
     "name": "stdout",
     "output_type": "stream",
     "text": [
      "[5, 5, 1, 5, 1, 5, 5, 4, 4, 5]\n",
      "152551    5\n",
      "7765      5\n",
      "83959     1\n",
      "115550    4\n",
      "127902    1\n",
      "63793     5\n",
      "117637    5\n",
      "34481     5\n",
      "55166     4\n",
      "49846     2\n",
      "Name: stars, dtype: int64\n"
     ]
    }
   ],
   "source": [
    "preds = classifier.predict(X_test)\n",
    "print(list(preds[:10]))\n",
    "print(y_test[:10])"
   ]
  },
  {
   "cell_type": "markdown",
   "metadata": {},
   "source": [
    "### Evaluating our Classifier"
   ]
  },
  {
   "cell_type": "code",
   "execution_count": 232,
   "metadata": {
    "collapsed": true
   },
   "outputs": [],
   "source": [
    "# simplest method for evaluating such a system is to see the percentage of the time it accurately predicts the desired answer. \n",
    "# This method is unsurprisingly called accuracy. We can calculate the accuracy of our system by comparing the predicted reviews \n",
    "# and the real reviews–when they are the same, our classifier predicted the review correctly.\n",
    "# We sum up all of the correct answers and divide by the total number of reviews in our test set. \n",
    "# If this number is equal to 1, it means our classifier was spot on every time."
   ]
  },
  {
   "cell_type": "code",
   "execution_count": 233,
   "metadata": {},
   "outputs": [
    {
     "name": "stdout",
     "output_type": "stream",
     "text": [
      "0.689382189479\n"
     ]
    }
   ],
   "source": [
    "from sklearn.metrics import accuracy_score\n",
    "print(accuracy_score(y_test, preds))"
   ]
  },
  {
   "cell_type": "code",
   "execution_count": 234,
   "metadata": {},
   "outputs": [
    {
     "name": "stdout",
     "output_type": "stream",
     "text": [
      "             precision    recall  f1-score   support\n",
      "\n",
      "          1       0.71      0.80      0.75      2833\n",
      "          2       0.49      0.17      0.26      1650\n",
      "          3       0.51      0.32      0.39      2549\n",
      "          4       0.50      0.29      0.37      6841\n",
      "          5       0.74      0.93      0.83     17075\n",
      "\n",
      "avg / total       0.65      0.69      0.65     30948\n",
      "\n"
     ]
    }
   ],
   "source": [
    "from sklearn.metrics import classification_report\n",
    "print(classification_report(y_test, preds))"
   ]
  },
  {
   "cell_type": "code",
   "execution_count": 235,
   "metadata": {},
   "outputs": [
    {
     "name": "stdout",
     "output_type": "stream",
     "text": [
      "[[ 2260   129    94   105   245]\n",
      " [  591   288   359   187   225]\n",
      " [  212   137   819   741   640]\n",
      " [   72    23   293  2011  4442]\n",
      " [   55     7    55  1001 15957]]\n"
     ]
    }
   ],
   "source": [
    "from sklearn.metrics import confusion_matrix\n",
    "print(confusion_matrix(y_test, preds))"
   ]
  },
  {
   "cell_type": "markdown",
   "metadata": {},
   "source": [
    "## remodelling the problem for +ve / -ve sentiment"
   ]
  },
  {
   "cell_type": "code",
   "execution_count": 236,
   "metadata": {},
   "outputs": [
    {
     "name": "stdout",
     "output_type": "stream",
     "text": [
      "154737\n"
     ]
    }
   ],
   "source": [
    "# making binary classes\n",
    "sentiments = []\n",
    "for star in stars[1]:\n",
    "    if star <= 3:\n",
    "        sentiments.append('n')\n",
    "    if star > 3:\n",
    "        sentiments.append('p')\n",
    "\n",
    "print(len(sentiments))        \n",
    "        \n",
    "## to see the effect without including 3, we need to undersample"
   ]
  },
  {
   "cell_type": "code",
   "execution_count": 237,
   "metadata": {},
   "outputs": [
    {
     "name": "stdout",
     "output_type": "stream",
     "text": [
      "Wall time: 25.4 s\n"
     ]
    }
   ],
   "source": [
    "%%time\n",
    "\n",
    "vectorizer2 = TfidfVectorizer(ngram_range=(1,3))\n",
    "vectors2 = vectorizer2.fit_transform(texts)\n",
    "X2_train, X2_test, y2_train, y2_test = train_test_split(vectors, sentiments, test_size=0.20, random_state=42)"
   ]
  },
  {
   "cell_type": "code",
   "execution_count": 238,
   "metadata": {},
   "outputs": [
    {
     "name": "stdout",
     "output_type": "stream",
     "text": [
      "Wall time: 2.31 s\n"
     ]
    }
   ],
   "source": [
    "%%time\n",
    "\n",
    "classifier2 = LinearSVC()\n",
    "# train the classifier\n",
    "classifier2.fit(X2_train, y2_train)"
   ]
  },
  {
   "cell_type": "code",
   "execution_count": 239,
   "metadata": {},
   "outputs": [
    {
     "name": "stdout",
     "output_type": "stream",
     "text": [
      "['p', 'p', 'n', 'p', 'n', 'p', 'p', 'p', 'n', 'p']\n",
      "['p', 'p', 'n', 'p', 'n', 'p', 'p', 'p', 'p', 'n']\n"
     ]
    }
   ],
   "source": [
    "preds2 = classifier2.predict(X2_test)\n",
    "print(list(preds2[:10]))\n",
    "print(y2_test[:10])"
   ]
  },
  {
   "cell_type": "code",
   "execution_count": 240,
   "metadata": {},
   "outputs": [
    {
     "name": "stdout",
     "output_type": "stream",
     "text": [
      "0.926392658653\n"
     ]
    }
   ],
   "source": [
    "print(accuracy_score(y2_test, preds2))"
   ]
  },
  {
   "cell_type": "code",
   "execution_count": 241,
   "metadata": {},
   "outputs": [
    {
     "name": "stdout",
     "output_type": "stream",
     "text": [
      "             precision    recall  f1-score   support\n",
      "\n",
      "          n       0.89      0.77      0.83      7032\n",
      "          p       0.94      0.97      0.95     23916\n",
      "\n",
      "avg / total       0.93      0.93      0.92     30948\n",
      "\n"
     ]
    }
   ],
   "source": [
    "print(classification_report(y2_test, preds2))"
   ]
  },
  {
   "cell_type": "code",
   "execution_count": 242,
   "metadata": {},
   "outputs": [
    {
     "name": "stdout",
     "output_type": "stream",
     "text": [
      "[[ 5416  1616]\n",
      " [  662 23254]]\n"
     ]
    }
   ],
   "source": [
    "print(confusion_matrix(y2_test, preds2))"
   ]
  },
  {
   "cell_type": "code",
   "execution_count": 243,
   "metadata": {
    "collapsed": true
   },
   "outputs": [],
   "source": [
    "import itertools\n",
    "\n",
    "names = ['review text', 'sentiment']\n",
    "\n",
    "matplotlib.rc('figure', figsize=(6, 6))\n",
    "def plot_confusion_matrix(cm, classes,\n",
    "                          normalize=False,\n",
    "                          title='Confusion matrix',\n",
    "                          cmap=plt.cm.Blues):\n",
    "    \"\"\"\n",
    "    This function prints and plots the confusion matrix.\n",
    "    Normalization can be applied by setting `normalize=True`.\n",
    "    \"\"\"\n",
    "    if normalize:\n",
    "        cm = cm.astype('float') / cm.sum(axis=1)[:, np.newaxis]\n",
    "        print(\"Normalized confusion matrix\")\n",
    "    else:\n",
    "        print('Confusion matrix, without normalization')\n",
    "\n",
    "    print(cm)\n",
    "\n",
    "    plt.imshow(cm, interpolation='nearest', cmap=cmap)\n",
    "    plt.title(title)\n",
    "    plt.colorbar()\n",
    "    tick_marks = np.arange(len(classes))\n",
    "    plt.xticks(tick_marks, classes, rotation=45)\n",
    "    plt.yticks(tick_marks, classes)\n",
    "\n",
    "    fmt = '.2f' if normalize else 'd'\n",
    "    thresh = cm.max() / 2.\n",
    "    for i, j in itertools.product(range(cm.shape[0]), range(cm.shape[1])):\n",
    "        plt.text(j, i, format(cm[i, j], fmt),\n",
    "                 horizontalalignment=\"center\",\n",
    "                 color=\"white\" if cm[i, j] > thresh else \"black\")\n",
    "\n",
    "    plt.tight_layout()\n",
    "    plt.ylabel('True label')\n",
    "    plt.xlabel('Predicted label')\n"
   ]
  },
  {
   "cell_type": "code",
   "execution_count": 244,
   "metadata": {},
   "outputs": [
    {
     "data": {
      "text/plain": [
       "<matplotlib.figure.Figure at 0x26f30ff7978>"
      ]
     },
     "execution_count": 244,
     "metadata": {},
     "output_type": "execute_result"
    },
    {
     "name": "stdout",
     "output_type": "stream",
     "text": [
      "Confusion matrix, without normalization\n",
      "[[ 5416  1616]\n",
      " [  662 23254]]\n"
     ]
    },
    {
     "data": {
      "text/plain": [
       "<matplotlib.figure.Figure at 0x26f0af4c390>"
      ]
     },
     "execution_count": 244,
     "metadata": {},
     "output_type": "execute_result"
    },
    {
     "name": "stdout",
     "output_type": "stream",
     "text": [
      "Normalized confusion matrix\n",
      "[[ 0.77  0.23]\n",
      " [ 0.03  0.97]]\n"
     ]
    },
    {
     "data": {
      "image/png": "[encoded data removed]",
      "text/plain": [
       "<matplotlib.figure.Figure at 0x26f30ff7978>"
      ]
     },
     "metadata": {},
     "output_type": "display_data"
    },
    {
     "data": {
      "image/png": "[encoded data removed]",
      "text/plain": [
       "<matplotlib.figure.Figure at 0x26f0af4c390>"
      ]
     },
     "metadata": {},
     "output_type": "display_data"
    }
   ],
   "source": [
    "# Compute confusion matrix\n",
    "cnf_matrix = confusion_matrix(y2_test, preds2)\n",
    "np.set_printoptions(precision=2)\n",
    "\n",
    "# Plot non-normalized confusion matrix\n",
    "plt.figure()\n",
    "plot_confusion_matrix(cnf_matrix, classes=names,\n",
    "                      title='Confusion matrix, without normalization')\n",
    "\n",
    "# Plot normalized confusion matrix\n",
    "plt.figure()\n",
    "plot_confusion_matrix(cnf_matrix, classes=names, normalize=True,\n",
    "                      title='Normalized confusion matrix')\n",
    "\n",
    "plt.show()"
   ]
  },
  {
   "cell_type": "markdown",
   "metadata": {},
   "source": [
    "## 2nd approach -  Undersampling to handle imbalanced data"
   ]
  },
  {
   "cell_type": "code",
   "execution_count": 245,
   "metadata": {
    "collapsed": true
   },
   "outputs": [],
   "source": [
    "# 1st approach:\n",
    "# Simple undersampling will drop some 5-4-3-1 star reviews at random, to give a balanced dataset"
   ]
  },
  {
   "cell_type": "code",
   "execution_count": 246,
   "metadata": {
    "collapsed": true
   },
   "outputs": [],
   "source": [
    "def balance_classes(xs, ys):\n",
    "    \"\"\"\n",
    "    Undersample xs, ys to balance classes.\n",
    "    \"\"\"\n",
    "    freqs = Counter(ys)\n",
    "    # the least common class is the maximum number we want for all classes\n",
    "    max_allowable = freqs.most_common()[-1][1]\n",
    "    num_added = {clss: 0 for clss in freqs.keys()}\n",
    "    new_ys = []\n",
    "    new_xs = []\n",
    "    for i, y in enumerate(ys):\n",
    "        if num_added[y] < max_allowable:\n",
    "            new_ys.append(y)\n",
    "            new_xs.append(xs[i])\n",
    "        num_added[y] += 1\n",
    "    return new_xs, new_ys"
   ]
  },
  {
   "cell_type": "code",
   "execution_count": 247,
   "metadata": {},
   "outputs": [
    {
     "name": "stdout",
     "output_type": "stream",
     "text": [
      "Unbalanced dataset :  Counter({5: 85332, 4: 33569, 1: 14055, 3: 13382, 2: 8399})\n",
      "Balanced dataset   :  Counter({4: 8399, 1: 8399, 5: 8399, 3: 8399, 2: 8399})\n"
     ]
    }
   ],
   "source": [
    "print(\"Unbalanced dataset : \",Counter(stars[1]))\n",
    "balanced_x, balanced_y = balance_classes(texts, stars[1])\n",
    "print(\"Balanced dataset   : \",Counter(balanced_y))"
   ]
  },
  {
   "cell_type": "code",
   "execution_count": 248,
   "metadata": {},
   "outputs": [
    {
     "name": "stdout",
     "output_type": "stream",
     "text": [
      "Wall time: 6.3 s\n"
     ]
    }
   ],
   "source": [
    "%%time\n",
    "\n",
    "# This vectorizer breaks text into single words and bi-grams\n",
    "# and then calculates the TF-IDF representation\n",
    "vectorizer3 = TfidfVectorizer(ngram_range=(1,3))\n",
    "\n",
    "# the 'fit' builds up the vocabulary from all the reviews\n",
    "# while the 'transform' step turns each indivdual text into\n",
    "# a matrix of numbers.\n",
    "vectors3 = vectorizer3.fit_transform(balanced_x)"
   ]
  },
  {
   "cell_type": "code",
   "execution_count": 249,
   "metadata": {},
   "outputs": [],
   "source": [
    "from sklearn.model_selection import train_test_split\n",
    "X3_train, X3_test, y3_train, y3_test = train_test_split(vectors3, balanced_y, test_size=0.20, random_state=42)"
   ]
  },
  {
   "cell_type": "code",
   "execution_count": 250,
   "metadata": {},
   "outputs": [
    {
     "name": "stdout",
     "output_type": "stream",
     "text": [
      "Wall time: 2.81 s\n"
     ]
    }
   ],
   "source": [
    "%%time\n",
    "\n",
    "# initialise the SVM classifier\n",
    "classifier3 = LinearSVC()\n",
    "\n",
    "# train the classifier\n",
    "classifier3.fit(X3_train, y3_train)"
   ]
  },
  {
   "cell_type": "code",
   "execution_count": 253,
   "metadata": {},
   "outputs": [
    {
     "name": "stdout",
     "output_type": "stream",
     "text": [
      "[3, 3, 2, 5, 1, 5, 2, 1, 3, 3]\n",
      "[3, 4, 3, 5, 2, 1, 2, 3, 1, 4]\n"
     ]
    }
   ],
   "source": [
    "preds3 = classifier3.predict(X3_test)\n",
    "print(list(preds3[:10]))\n",
    "print(y3_test[:10])"
   ]
  },
  {
   "cell_type": "code",
   "execution_count": 254,
   "metadata": {},
   "outputs": [
    {
     "name": "stdout",
     "output_type": "stream",
     "text": [
      "0.561733539707\n"
     ]
    }
   ],
   "source": [
    "print(accuracy_score(y3_test, preds3))"
   ]
  },
  {
   "cell_type": "code",
   "execution_count": 255,
   "metadata": {},
   "outputs": [
    {
     "name": "stdout",
     "output_type": "stream",
     "text": [
      "             precision    recall  f1-score   support\n",
      "\n",
      "          1       0.64      0.75      0.69      1697\n",
      "          2       0.50      0.46      0.48      1633\n",
      "          3       0.49      0.43      0.46      1653\n",
      "          4       0.50      0.41      0.45      1728\n",
      "          5       0.63      0.75      0.68      1688\n",
      "\n",
      "avg / total       0.55      0.56      0.55      8399\n",
      "\n"
     ]
    }
   ],
   "source": [
    "print(classification_report(y3_test, preds3))"
   ]
  },
  {
   "cell_type": "code",
   "execution_count": 256,
   "metadata": {},
   "outputs": [
    {
     "name": "stdout",
     "output_type": "stream",
     "text": [
      "[[1268  302   80   19   28]\n",
      " [ 464  748  328   57   36]\n",
      " [ 160  359  715  301  118]\n",
      " [  58   71  311  714  574]\n",
      " [  24   15   37  339 1273]]\n"
     ]
    }
   ],
   "source": [
    "print(confusion_matrix(y3_test, preds3))"
   ]
  },
  {
   "cell_type": "code",
   "execution_count": null,
   "metadata": {
    "collapsed": true
   },
   "outputs": [],
   "source": []
  },
  {
   "cell_type": "code",
   "execution_count": null,
   "metadata": {
    "collapsed": true
   },
   "outputs": [],
   "source": []
  }
 ],
 "metadata": {
  "kernelspec": {
   "display_name": "Python 3",
   "language": "python",
   "name": "python3"
  },
  "language_info": {
   "codemirror_mode": {
    "name": "ipython",
    "version": 3
   },
   "file_extension": ".py",
   "mimetype": "text/x-python",
   "name": "python",
   "nbconvert_exporter": "python",
   "pygments_lexer": "ipython3",
   "version": "3.6.3"
  }
 },
 "nbformat": 4,
 "nbformat_minor": 2
}
