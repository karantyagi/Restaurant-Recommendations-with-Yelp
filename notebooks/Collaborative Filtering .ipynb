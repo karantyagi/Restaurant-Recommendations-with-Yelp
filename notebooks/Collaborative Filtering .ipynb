{
 "cells": [
  {
   "cell_type": "code",
   "execution_count": 17,
   "metadata": {},
   "outputs": [
    {
     "name": "stdout",
     "output_type": "stream",
     "text": [
      "Populating the interactive namespace from numpy and matplotlib\n"
     ]
    }
   ],
   "source": [
    "%pylab inline\n",
    "import warnings\n",
    "warnings.filterwarnings('ignore')"
   ]
  },
  {
   "cell_type": "code",
   "execution_count": 18,
   "metadata": {
    "collapsed": true
   },
   "outputs": [],
   "source": [
    "import pandas as pd\n",
    "import numpy as np\n",
    "import matplotlib.pyplot as plt\n",
    "import nltk\n",
    "from nltk.corpus import stopwords"
   ]
  },
  {
   "cell_type": "code",
   "execution_count": 26,
   "metadata": {},
   "outputs": [
    {
     "data": {
      "text/html": [
       "<div>\n",
       "<style scoped>\n",
       "    .dataframe tbody tr th:only-of-type {\n",
       "        vertical-align: middle;\n",
       "    }\n",
       "\n",
       "    .dataframe tbody tr th {\n",
       "        vertical-align: top;\n",
       "    }\n",
       "\n",
       "    .dataframe thead th {\n",
       "        text-align: right;\n",
       "    }\n",
       "</style>\n",
       "<table border=\"1\" class=\"dataframe\">\n",
       "  <thead>\n",
       "    <tr style=\"text-align: right;\">\n",
       "      <th></th>\n",
       "      <th>review_id</th>\n",
       "      <th>business_id</th>\n",
       "      <th>user_id</th>\n",
       "      <th>text</th>\n",
       "      <th>stars</th>\n",
       "    </tr>\n",
       "  </thead>\n",
       "  <tbody>\n",
       "    <tr>\n",
       "      <th>1</th>\n",
       "      <td>xryg94pDLOO71veGcQINuQ</td>\n",
       "      <td>dfRAK2mgdHbL2_YsFqtCdQ</td>\n",
       "      <td>tL2pS5UOmN6aAOi3Z-qFGg</td>\n",
       "      <td>I used to come here back in the 90s when this ...</td>\n",
       "      <td>1</td>\n",
       "    </tr>\n",
       "    <tr>\n",
       "      <th>14</th>\n",
       "      <td>fx0AFrBZ1246jKGLKBgtMA</td>\n",
       "      <td>VPO8pBUwYz1u6GoG0d2U-Q</td>\n",
       "      <td>Tr1ulYYAHAw5FzEQQwZEJQ</td>\n",
       "      <td>I really like the chicken and biscuits. But it...</td>\n",
       "      <td>1</td>\n",
       "    </tr>\n",
       "    <tr>\n",
       "      <th>16</th>\n",
       "      <td>dH4h3Worla2GcuZxJvnlVQ</td>\n",
       "      <td>gsjxrwdHqKdTeNx3GeDKNQ</td>\n",
       "      <td>1OuFRzppeTtaEEWvc82J-A</td>\n",
       "      <td>I asked for extra sauce and got zero sauce sho...</td>\n",
       "      <td>1</td>\n",
       "    </tr>\n",
       "    <tr>\n",
       "      <th>21</th>\n",
       "      <td>25hX4UzYNqmsy_YdTdzvjg</td>\n",
       "      <td>JyxHvtj-syke7m9rbza7mA</td>\n",
       "      <td>RFIZhrka0gCpiL62M5E93g</td>\n",
       "      <td>I went to this place to see what all the hype ...</td>\n",
       "      <td>1</td>\n",
       "    </tr>\n",
       "    <tr>\n",
       "      <th>23</th>\n",
       "      <td>NJjjaMAZDnB3doJvX28SJg</td>\n",
       "      <td>QIn3PuGUkinSibUn-NsljQ</td>\n",
       "      <td>V3gzoLZb9zGwfSBqGDOTXg</td>\n",
       "      <td>I got the nachos with carne asada. There was n...</td>\n",
       "      <td>1</td>\n",
       "    </tr>\n",
       "  </tbody>\n",
       "</table>\n",
       "</div>"
      ],
      "text/plain": [
       "                 review_id             business_id                 user_id  \\\n",
       "1   xryg94pDLOO71veGcQINuQ  dfRAK2mgdHbL2_YsFqtCdQ  tL2pS5UOmN6aAOi3Z-qFGg   \n",
       "14  fx0AFrBZ1246jKGLKBgtMA  VPO8pBUwYz1u6GoG0d2U-Q  Tr1ulYYAHAw5FzEQQwZEJQ   \n",
       "16  dH4h3Worla2GcuZxJvnlVQ  gsjxrwdHqKdTeNx3GeDKNQ  1OuFRzppeTtaEEWvc82J-A   \n",
       "21  25hX4UzYNqmsy_YdTdzvjg  JyxHvtj-syke7m9rbza7mA  RFIZhrka0gCpiL62M5E93g   \n",
       "23  NJjjaMAZDnB3doJvX28SJg  QIn3PuGUkinSibUn-NsljQ  V3gzoLZb9zGwfSBqGDOTXg   \n",
       "\n",
       "                                                 text  stars  \n",
       "1   I used to come here back in the 90s when this ...      1  \n",
       "14  I really like the chicken and biscuits. But it...      1  \n",
       "16  I asked for extra sauce and got zero sauce sho...      1  \n",
       "21  I went to this place to see what all the hype ...      1  \n",
       "23  I got the nachos with carne asada. There was n...      1  "
      ]
     },
     "execution_count": 26,
     "metadata": {},
     "output_type": "execute_result"
    }
   ],
   "source": [
    "# Importing the datasets\n",
    "reviews = pd.read_csv('reviews_restaurants_text.csv')\n",
    "reviews['text'] = reviews['text'].str[2:-2]\n",
    "\n",
    "#Undersampling of the dataset to get a balanced dataset\n",
    "review1 = reviews[reviews['stars'] == 1][0:12000]\n",
    "review2 = reviews[reviews['stars'] == 2][0:7000]\n",
    "review3 = reviews[reviews['stars'] == 3][0:12000]\n",
    "review4 = reviews[reviews['stars'] == 4][0:12000]\n",
    "review5 = reviews[reviews['stars'] == 5][0:12000]\n",
    "frames = [review1, review2, review3,review4,review5]\n",
    "reviews = pd.concat(frames)\n",
    "len(reviews)\n",
    "reviews.head()"
   ]
  },
  {
   "cell_type": "code",
   "execution_count": 31,
   "metadata": {
    "collapsed": true
   },
   "outputs": [],
   "source": [
    "reviews['user_id'] = pd.factorize(reviews.user_id)[0]\n",
    "reviews['business_id'] = pd.factorize(reviews.business_id)[0]"
   ]
  },
  {
   "cell_type": "code",
   "execution_count": 32,
   "metadata": {
    "collapsed": true
   },
   "outputs": [],
   "source": [
    "unique_users = reviews.user_id.unique().shape[0]\n",
    "unique_restaurants = reviews.business_id.unique().shape[0]"
   ]
  },
  {
   "cell_type": "code",
   "execution_count": 33,
   "metadata": {},
   "outputs": [],
   "source": [
    "from sklearn import cross_validation as cv\n",
    "train_data, test_data = cv.train_test_split(reviews, test_size=0.20)\n",
    "\n",
    "#Create two user-item matrices, one for training and another for testing\n",
    "train_data_matrix = np.zeros((unique_users, unique_restaurants))\n",
    "# train_data_matrix\n",
    "for line in train_data.itertuples():\n",
    "#      print(line[5])\n",
    "     train_data_matrix[line[3], line[2]] = line[5]\n",
    "\n",
    "test_data_matrix = np.zeros((unique_users, unique_restaurants))\n",
    "for line in test_data.itertuples():\n",
    "    test_data_matrix[line[3], line[2]] = line[5]"
   ]
  },
  {
   "cell_type": "code",
   "execution_count": null,
   "metadata": {
    "collapsed": true
   },
   "outputs": [],
   "source": [
    "from sklearn.metrics.pairwise import pairwise_distances\n",
    "user_similarity = pairwise_distances(train_data_matrix, metric='cosine')\n",
    "item_similarity = pairwise_distances(train_data_matrix.T, metric='cosine')"
   ]
  },
  {
   "cell_type": "code",
   "execution_count": 8,
   "metadata": {
    "collapsed": true
   },
   "outputs": [],
   "source": [
    "def predict(ratings, similarity, type='user'):\n",
    "    if type == 'user':\n",
    "        mean_user_rating = ratings.mean(axis=1)\n",
    "        #You use np.newaxis so that mean_user_rating has same format as ratings\n",
    "        ratings_diff = (ratings - mean_user_rating[:, np.newaxis])\n",
    "        pred = mean_user_rating[:, np.newaxis] + similarity.dot(ratings_diff) / np.array([np.abs(similarity).sum(axis=1)]).T\n",
    "    elif type == 'item':\n",
    "        pred = ratings.dot(similarity) / np.array([np.abs(similarity).sum(axis=1)])\n",
    "    return pred\n",
    "\n",
    "item_prediction = predict(train_data_matrix, item_similarity, type='item')\n",
    "user_prediction = predict(train_data_matrix, user_similarity, type='user')"
   ]
  },
  {
   "cell_type": "code",
   "execution_count": 9,
   "metadata": {},
   "outputs": [
    {
     "name": "stdout",
     "output_type": "stream",
     "text": [
      "User-based CF RMSE: 3.382852990688319\n",
      "Item-based CF RMSE: 3.384852488490991\n",
      "User-based CF RMSE: 3.415862737871881\n",
      "Item-based CF RMSE: 3.416699872099379\n"
     ]
    }
   ],
   "source": [
    "from sklearn.metrics import mean_squared_error\n",
    "from math import sqrt\n",
    "def rmse(prediction, ground_truth):\n",
    "    prediction = prediction[ground_truth.nonzero()].flatten()\n",
    "    ground_truth = ground_truth[ground_truth.nonzero()].flatten()\n",
    "    return sqrt(mean_squared_error(prediction, ground_truth))\n",
    "\n",
    "print ('User-based CF RMSE: ' + str(rmse(user_prediction, test_data_matrix)))\n",
    "print ('Item-based CF RMSE: ' + str(rmse(item_prediction, test_data_matrix)))\n",
    "\n",
    "\n",
    "print ('User-based CF RMSE: ' + str(rmse(user_prediction, train_data_matrix)))\n",
    "print ('Item-based CF RMSE: ' + str(rmse(item_prediction, train_data_matrix)))"
   ]
  }
 ],
 "metadata": {
  "kernelspec": {
   "display_name": "Python 3",
   "language": "python",
   "name": "python3"
  },
  "language_info": {
   "codemirror_mode": {
    "name": "ipython",
    "version": 3
   },
   "file_extension": ".py",
   "mimetype": "text/x-python",
   "name": "python",
   "nbconvert_exporter": "python",
   "pygments_lexer": "ipython3",
   "version": "3.6.3"
  }
 },
 "nbformat": 4,
 "nbformat_minor": 2
}
