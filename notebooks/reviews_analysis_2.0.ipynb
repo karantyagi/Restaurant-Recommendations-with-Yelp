{
 "cells": [
  {
   "cell_type": "code",
   "execution_count": 1,
   "metadata": {},
   "outputs": [
    {
     "name": "stdout",
     "output_type": "stream",
     "text": [
      "Populating the interactive namespace from numpy and matplotlib\n"
     ]
    }
   ],
   "source": [
    "%pylab inline"
   ]
  },
  {
   "cell_type": "code",
   "execution_count": 2,
   "metadata": {
    "collapsed": true
   },
   "outputs": [],
   "source": [
    "from IPython.core.interactiveshell import InteractiveShell\n",
    "InteractiveShell.ast_node_interactivity = \"all\""
   ]
  },
  {
   "cell_type": "code",
   "execution_count": 3,
   "metadata": {
    "collapsed": true
   },
   "outputs": [],
   "source": [
    "# Displaying max-height of 8000 px without scrolling, for cleaner visual representation\n",
    "# source : stackoverflow\n",
    "# https://stackoverflow.com/questions/18770504/resize-ipython-notebook-output-window"
   ]
  },
  {
   "cell_type": "code",
   "execution_count": 4,
   "metadata": {},
   "outputs": [
    {
     "data": {
      "text/html": [
       "<style>\n",
       ".output_wrapper, .output {\n",
       "    height:auto !important;\n",
       "    max-height:2000px;  /* your desired max-height here */\n",
       "}\n",
       ".output_scroll {\n",
       "    box-shadow:none !important;\n",
       "    webkit-box-shadow:none !important;\n",
       "}\n",
       "</style>"
      ],
      "text/plain": [
       "<IPython.core.display.HTML object>"
      ]
     },
     "metadata": {},
     "output_type": "display_data"
    }
   ],
   "source": [
    "%%html\n",
    "<style>\n",
    ".output_wrapper, .output {\n",
    "    height:auto !important;\n",
    "    max-height:2000px;  /* your desired max-height here */\n",
    "}\n",
    ".output_scroll {\n",
    "    box-shadow:none !important;\n",
    "    webkit-box-shadow:none !important;\n",
    "}\n",
    "</style>"
   ]
  },
  {
   "cell_type": "code",
   "execution_count": 5,
   "metadata": {
    "collapsed": true
   },
   "outputs": [],
   "source": [
    "# Loading libraries\n",
    "\n",
    "import pandas as pd\n",
    "# pip install tqdm\n",
    "from tqdm import tqdm_notebook as tqdm\n",
    "\n",
    "# help functions\n",
    "\n",
    "# return subset dataset in range -review word range..\n",
    "# benchmark\n",
    "def get_reviews_of_length(dataset,length_range):\n",
    "    pbar = tqdm(total=dataset.shape[0]+2)\n",
    "    review_text = \"\"\n",
    "    count = 0 # no of reviews found in the specified range\n",
    "    for index, row in dataset.iterrows():\n",
    "        if index > 1:\n",
    "            review_text = cleaned_review(row['text'])\n",
    "            # removing 'b ...... '\n",
    "            review_text = row['text'][2: len(review_text)-1]\n",
    "            #display(review_text)\n",
    "            \n",
    "            # find tentative length of review\n",
    "            # function to clean the text\n",
    "            \n",
    "            words = review_text.split()\n",
    "            if len(words) >= length_range[0] and len(words) <= length_range[1]:\n",
    "                count+=1\n",
    "                #print(\" {}  Review length : {}\".format(count,len(words)))\n",
    "                #print(words[:10])\n",
    "        pbar.update(1)\n",
    "        if index > 80000:\n",
    "            break\n",
    "    pbar.close()\n",
    "    print(\"\\nNo. of Reviews in range({},{}): {}\".format(length_range[0],length_range[1],count))\n",
    "    return dataset # subset dataset"
   ]
  },
  {
   "cell_type": "code",
   "execution_count": 6,
   "metadata": {
    "collapsed": true
   },
   "outputs": [],
   "source": [
    "# Loading data-set : reviews dataset with reviews of length 100-200 for restaurants ONLY.\n",
    "# LENGTH {100-200} words - is an important constraint here"
   ]
  },
  {
   "cell_type": "code",
   "execution_count": 7,
   "metadata": {
    "collapsed": true
   },
   "outputs": [],
   "source": [
    "col_names = ['review_id', 'business_id', 'user_id', 'text', 'stars']"
   ]
  },
  {
   "cell_type": "code",
   "execution_count": 8,
   "metadata": {},
   "outputs": [
    {
     "name": "stdout",
     "output_type": "stream",
     "text": [
      "Total No. of Reviews: 929607\n",
      "Wall time: 12 s\n"
     ]
    }
   ],
   "source": [
    "%%time\n",
    "\n",
    "# check what is low -memory parameter ??\n",
    "\n",
    "# COMPLETE REVIEWS FOR RESTAURANTS - ALL REVIEW WORD LENGTH\n",
    "reviews = pd.read_csv('reviews_restaurants.csv', names=col_names, low_memory= False)\n",
    "\n",
    "# reviews_dataset.shape[0] - gives number of row count\n",
    "print(\"Total No. of Reviews: {}\".format(reviews.shape[0]))\n"
   ]
  },
  {
   "cell_type": "code",
   "execution_count": 9,
   "metadata": {},
   "outputs": [
    {
     "data": {
      "application/vnd.jupyter.widget-view+json": {
       "model_id": "b4d4eb4bcc5d494dad537ce204873338",
       "version_major": 2,
       "version_minor": 0
      },
      "text/plain": [
       "A Jupyter Widget"
      ]
     },
     "metadata": {},
     "output_type": "display_data"
    },
    {
     "name": "stdout",
     "output_type": "stream",
     "text": [
      "\n",
      "\n",
      "No. of Reviews in range(100,200): 20411\n",
      "No. of Reviews in range: 929607\n",
      "Wall time: 10.2 s\n"
     ]
    }
   ],
   "source": [
    "%%time\n",
    "review_length_range = [100,200]\n",
    "\n",
    "reviews_dataset = get_reviews_of_length(reviews,review_length_range)\n",
    "\n",
    "review_count=reviews_dataset.shape[0] #gives number of row count\n",
    "\n",
    "print(\"No. of Reviews in range: {}\".format(review_count))"
   ]
  },
  {
   "cell_type": "code",
   "execution_count": 42,
   "metadata": {},
   "outputs": [
    {
     "name": "stdout",
     "output_type": "stream",
     "text": [
      "\n",
      "Review length : 266\n"
     ]
    },
    {
     "data": {
      "text/plain": [
       "'\\n'"
      ]
     },
     "metadata": {},
     "output_type": "display_data"
    },
    {
     "data": {
      "text/plain": [
       "['after',\n",
       " 'being',\n",
       " 'scared',\n",
       " 'away',\n",
       " 'from',\n",
       " 'rock',\n",
       " '&',\n",
       " \"rita\\\\'s,\",\n",
       " 'we',\n",
       " 'ended']"
      ]
     },
     "metadata": {},
     "output_type": "display_data"
    }
   ],
   "source": [
    "sample_review = str(reviews.text[1])\n",
    "# removing 'b ...... '\n",
    "cleaned_text = sample_review[2: len(sample_review)-1]\n",
    "#display(review_text)\n",
    "        \n",
    "# find tentative length of review\n",
    "# function to clean the text\n",
    "\n",
    "##### AWESOME POST ON TEXT CLEANING #####\n",
    "# source:  https://machinelearningmastery.com/clean-text-machine-learning-python/\n",
    "          \n",
    "words = cleaned_text.split()\n",
    "words = [word.lower() for word in words]  # case normalization\n",
    "#print(sample_review)\n",
    "print(\"\\nReview length : {}\".format(len(words)))\n",
    "display(\"\\n\",words[:10])"
   ]
  },
  {
   "cell_type": "code",
   "execution_count": 11,
   "metadata": {
    "collapsed": true
   },
   "outputs": [],
   "source": [
    "# text format of b'Review_starts' is beacuse of some encofing stuff, so we will remove it to make our review a \n",
    "# string like 'sample review'"
   ]
  },
  {
   "cell_type": "code",
   "execution_count": 12,
   "metadata": {
    "collapsed": true
   },
   "outputs": [],
   "source": [
    "# Text cleaning module  brfore tfidf vectors etc "
   ]
  },
  {
   "cell_type": "code",
   "execution_count": 37,
   "metadata": {},
   "outputs": [
    {
     "name": "stdout",
     "output_type": "stream",
     "text": [
      "Total reviews (100-200 word length) from smaller file:\n",
      "154738\n",
      "Wall time: 810 ms\n"
     ]
    }
   ],
   "source": [
    "%%time\n",
    "df = pd.read_csv('reviews_restaurants_text.csv', names=col_names, low_memory= False)\n",
    "# reviews_dataset.shape[0] - gives number of row count\n",
    "print(\"Total reviews (100-200 word length) from smaller file:\\n{}\".format(df.shape[0]))"
   ]
  },
  {
   "cell_type": "code",
   "execution_count": 43,
   "metadata": {
    "collapsed": true
   },
   "outputs": [],
   "source": [
    "# texts = [df['text'] for review in df]\n",
    "# stars = [df['stars'] for review in df]"
   ]
  },
  {
   "cell_type": "code",
   "execution_count": 44,
   "metadata": {},
   "outputs": [
    {
     "data": {
      "text/plain": [
       "5        85332\n",
       "4        33569\n",
       "1        14055\n",
       "3        13382\n",
       "2         8399\n",
       "stars        1\n",
       "Name: stars, dtype: int64"
      ]
     },
     "execution_count": 44,
     "metadata": {},
     "output_type": "execute_result"
    }
   ],
   "source": [
    "df[\"stars\"].value_counts()"
   ]
  },
  {
   "cell_type": "code",
   "execution_count": 45,
   "metadata": {
    "collapsed": true
   },
   "outputs": [],
   "source": [
    "# Not a balanced datset\n",
    "\n",
    "## How to handle problem of imbalance ?"
   ]
  },
  {
   "cell_type": "code",
   "execution_count": 49,
   "metadata": {},
   "outputs": [],
   "source": [
    "#pd.set_option('display.precision', 2)"
   ]
  },
  {
   "cell_type": "code",
   "execution_count": null,
   "metadata": {
    "collapsed": true
   },
   "outputs": [],
   "source": []
  }
 ],
 "metadata": {
  "kernelspec": {
   "display_name": "Python 3",
   "language": "python",
   "name": "python3"
  },
  "language_info": {
   "codemirror_mode": {
    "name": "ipython",
    "version": 3
   },
   "file_extension": ".py",
   "mimetype": "text/x-python",
   "name": "python",
   "nbconvert_exporter": "python",
   "pygments_lexer": "ipython3",
   "version": "3.6.3"
  }
 },
 "nbformat": 4,
 "nbformat_minor": 2
}
