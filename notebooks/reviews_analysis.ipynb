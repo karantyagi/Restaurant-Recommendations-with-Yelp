{
 "cells": [
  {
   "cell_type": "code",
   "execution_count": 2,
   "metadata": {},
   "outputs": [
    {
     "name": "stdout",
     "output_type": "stream",
     "text": [
      "Populating the interactive namespace from numpy and matplotlib\n"
     ]
    }
   ],
   "source": [
    "%pylab inline"
   ]
  },
  {
   "cell_type": "code",
   "execution_count": 3,
   "metadata": {
    "collapsed": true
   },
   "outputs": [],
   "source": [
    "from IPython.core.interactiveshell import InteractiveShell\n",
    "InteractiveShell.ast_node_interactivity = \"all\""
   ]
  },
  {
   "cell_type": "code",
   "execution_count": 4,
   "metadata": {
    "collapsed": true
   },
   "outputs": [],
   "source": [
    "# Displaying max-height of 8000 px without scrolling, for cleaner visual representation\n",
    "# source : stackoverflow\n",
    "# https://stackoverflow.com/questions/18770504/resize-ipython-notebook-output-window"
   ]
  },
  {
   "cell_type": "code",
   "execution_count": 5,
   "metadata": {},
   "outputs": [
    {
     "data": {
      "text/html": [
       "<style>\n",
       ".output_wrapper, .output {\n",
       "    height:auto !important;\n",
       "    max-height:2000px;  /* your desired max-height here */\n",
       "}\n",
       ".output_scroll {\n",
       "    box-shadow:none !important;\n",
       "    webkit-box-shadow:none !important;\n",
       "}\n",
       "</style>"
      ],
      "text/plain": [
       "<IPython.core.display.HTML object>"
      ]
     },
     "metadata": {},
     "output_type": "display_data"
    }
   ],
   "source": [
    "%%html\n",
    "<style>\n",
    ".output_wrapper, .output {\n",
    "    height:auto !important;\n",
    "    max-height:2000px;  /* your desired max-height here */\n",
    "}\n",
    ".output_scroll {\n",
    "    box-shadow:none !important;\n",
    "    webkit-box-shadow:none !important;\n",
    "}\n",
    "</style>"
   ]
  },
  {
   "cell_type": "code",
   "execution_count": 12,
   "metadata": {
    "collapsed": true
   },
   "outputs": [],
   "source": [
    "# Loading libraries\n",
    "\n",
    "import pandas as pd\n",
    "\n",
    "\n",
    "# help functions\n",
    "\n",
    "# return subset dataset in range -review word range..\n",
    "# benchmark\n",
    "def review_subset(range):\n",
    "    return # subset dataset"
   ]
  },
  {
   "cell_type": "code",
   "execution_count": 13,
   "metadata": {
    "collapsed": true
   },
   "outputs": [],
   "source": [
    "# Loading data-set : reviews dataset with reviews of length 100-200 for restaurants ONLY.\n",
    "# LENGTH {100-200} words - is an important constraint here"
   ]
  },
  {
   "cell_type": "code",
   "execution_count": 18,
   "metadata": {},
   "outputs": [],
   "source": [
    "col_names = ['review_id', 'business_id', 'user_id', 'text', 'stars']"
   ]
  },
  {
   "cell_type": "code",
   "execution_count": 29,
   "metadata": {},
   "outputs": [
    {
     "name": "stdout",
     "output_type": "stream",
     "text": [
      "Wall time: 1.05 s\n"
     ]
    }
   ],
   "source": [
    "%%time\n",
    "\n",
    "# check what is low -memory parameter ??\n",
    "\n",
    "reviews_dataset = pd.read_csv('reviews_restaurants_text.csv', names=col_names, low_memory= False)"
   ]
  },
  {
   "cell_type": "code",
   "execution_count": 20,
   "metadata": {},
   "outputs": [
    {
     "data": {
      "text/html": [
       "<div>\n",
       "<style>\n",
       "    .dataframe thead tr:only-child th {\n",
       "        text-align: right;\n",
       "    }\n",
       "\n",
       "    .dataframe thead th {\n",
       "        text-align: left;\n",
       "    }\n",
       "\n",
       "    .dataframe tbody tr th {\n",
       "        vertical-align: top;\n",
       "    }\n",
       "</style>\n",
       "<table border=\"1\" class=\"dataframe\">\n",
       "  <thead>\n",
       "    <tr style=\"text-align: right;\">\n",
       "      <th></th>\n",
       "      <th>review_id</th>\n",
       "      <th>business_id</th>\n",
       "      <th>user_id</th>\n",
       "      <th>text</th>\n",
       "      <th>stars</th>\n",
       "    </tr>\n",
       "  </thead>\n",
       "  <tbody>\n",
       "    <tr>\n",
       "      <th>0</th>\n",
       "      <td>review_id</td>\n",
       "      <td>business_id</td>\n",
       "      <td>user_id</td>\n",
       "      <td>text</td>\n",
       "      <td>stars</td>\n",
       "    </tr>\n",
       "    <tr>\n",
       "      <th>1</th>\n",
       "      <td>8oFUMhJ7fR2-X3We9TiK7g</td>\n",
       "      <td>kfo1hXvNtGGThfrZGaWtVw</td>\n",
       "      <td>tL2pS5UOmN6aAOi3Z-qFGg</td>\n",
       "      <td>b\"I've been here a few times over the years. I...</td>\n",
       "      <td>4</td>\n",
       "    </tr>\n",
       "    <tr>\n",
       "      <th>2</th>\n",
       "      <td>xryg94pDLOO71veGcQINuQ</td>\n",
       "      <td>dfRAK2mgdHbL2_YsFqtCdQ</td>\n",
       "      <td>tL2pS5UOmN6aAOi3Z-qFGg</td>\n",
       "      <td>b\"I used to come here back in the 90s when thi...</td>\n",
       "      <td>1</td>\n",
       "    </tr>\n",
       "    <tr>\n",
       "      <th>3</th>\n",
       "      <td>adNS6X4TnaxuFFxzoezGzg</td>\n",
       "      <td>So132GP_uy3XbGs0KNyzyw</td>\n",
       "      <td>tL2pS5UOmN6aAOi3Z-qFGg</td>\n",
       "      <td>b\"I've eaten here a couple of times. Great foo...</td>\n",
       "      <td>5</td>\n",
       "    </tr>\n",
       "    <tr>\n",
       "      <th>4</th>\n",
       "      <td>JyOWXyxpN0PmPAF3OXkfCQ</td>\n",
       "      <td>cZBCVzd4lg_jx8IiFz-Iag</td>\n",
       "      <td>tL2pS5UOmN6aAOi3Z-qFGg</td>\n",
       "      <td>b\"Have grabbed a quick bite to eat hear many t...</td>\n",
       "      <td>4</td>\n",
       "    </tr>\n",
       "    <tr>\n",
       "      <th>5</th>\n",
       "      <td>ClB81WvkDJwDnHN6evg84w</td>\n",
       "      <td>WzkbnhI-fxdH_tMzT3evtA</td>\n",
       "      <td>tL2pS5UOmN6aAOi3Z-qFGg</td>\n",
       "      <td>b'This is one of the best bars in town. Not ma...</td>\n",
       "      <td>5</td>\n",
       "    </tr>\n",
       "    <tr>\n",
       "      <th>6</th>\n",
       "      <td>HBB5H80QrvJO9yp2K8Cnww</td>\n",
       "      <td>-P8dGzSVhJi-5oZ-8U2y0w</td>\n",
       "      <td>tL2pS5UOmN6aAOi3Z-qFGg</td>\n",
       "      <td>b\"We ate here on a recent visit to Vegas. We f...</td>\n",
       "      <td>3</td>\n",
       "    </tr>\n",
       "    <tr>\n",
       "      <th>7</th>\n",
       "      <td>D9LnScipvugG-DBMinBNGw</td>\n",
       "      <td>yz2EimDE7bBvq6b4mDe_zg</td>\n",
       "      <td>tL2pS5UOmN6aAOi3Z-qFGg</td>\n",
       "      <td>b'Stopped in here recently for breakfast. \\nWe...</td>\n",
       "      <td>2</td>\n",
       "    </tr>\n",
       "    <tr>\n",
       "      <th>8</th>\n",
       "      <td>8h8_hkjA76CL0WDwazRqDw</td>\n",
       "      <td>T6VKCBhHojQkCWp_IYO24w</td>\n",
       "      <td>tL2pS5UOmN6aAOi3Z-qFGg</td>\n",
       "      <td>b'Typical McDonalds. Food was typical. Employe...</td>\n",
       "      <td>3</td>\n",
       "    </tr>\n",
       "    <tr>\n",
       "      <th>9</th>\n",
       "      <td>xGYGeu0zSTqLsUlG-_h6kQ</td>\n",
       "      <td>SVGApDPNdpFlEjwRQThCxA</td>\n",
       "      <td>tL2pS5UOmN6aAOi3Z-qFGg</td>\n",
       "      <td>b'Stopped in here with my family for dinner to...</td>\n",
       "      <td>4</td>\n",
       "    </tr>\n",
       "    <tr>\n",
       "      <th>10</th>\n",
       "      <td>RNLRW8dfpYF2lH75YLPGjQ</td>\n",
       "      <td>QC9bLPcNk6ymAOHf03pHhQ</td>\n",
       "      <td>tL2pS5UOmN6aAOi3Z-qFGg</td>\n",
       "      <td>b'Stopped in here recently to grab a bite on t...</td>\n",
       "      <td>4</td>\n",
       "    </tr>\n",
       "    <tr>\n",
       "      <th>11</th>\n",
       "      <td>SFjQVy4pREFzU2jCWvAvNg</td>\n",
       "      <td>T00dMi_gQdyQkE9GKJFVSQ</td>\n",
       "      <td>tL2pS5UOmN6aAOi3Z-qFGg</td>\n",
       "      <td>b\"This one is right across the street from me....</td>\n",
       "      <td>4</td>\n",
       "    </tr>\n",
       "    <tr>\n",
       "      <th>12</th>\n",
       "      <td>Cur8S2QEHuPpx5HXU32rPg</td>\n",
       "      <td>PDIh1lVtKlUqPJROXYJQvQ</td>\n",
       "      <td>3wB-JjsUjkvdNUDRnChsVg</td>\n",
       "      <td>b'The food is good.  It is best for a casual d...</td>\n",
       "      <td>4</td>\n",
       "    </tr>\n",
       "    <tr>\n",
       "      <th>13</th>\n",
       "      <td>9ZbH6x-HkTQb_H8ot8X-Ww</td>\n",
       "      <td>lGy7jJ9oVZUJNkmZj7ewgA</td>\n",
       "      <td>62IDDcERQaYe86babxUa4w</td>\n",
       "      <td>b'Love this place. I eat breakfast/lunch here ...</td>\n",
       "      <td>4</td>\n",
       "    </tr>\n",
       "    <tr>\n",
       "      <th>14</th>\n",
       "      <td>sG4M3vRLumEte4F17ypAlw</td>\n",
       "      <td>nnDLapJk1z2NJE0-XzwMlQ</td>\n",
       "      <td>fh_daewOXnMqE0O8o2py-A</td>\n",
       "      <td>b'Had their \"signature\" dry aged NY strip. Not...</td>\n",
       "      <td>3</td>\n",
       "    </tr>\n",
       "  </tbody>\n",
       "</table>\n",
       "</div>"
      ],
      "text/plain": [
       "                 review_id             business_id                 user_id  \\\n",
       "0                review_id             business_id                 user_id   \n",
       "1   8oFUMhJ7fR2-X3We9TiK7g  kfo1hXvNtGGThfrZGaWtVw  tL2pS5UOmN6aAOi3Z-qFGg   \n",
       "2   xryg94pDLOO71veGcQINuQ  dfRAK2mgdHbL2_YsFqtCdQ  tL2pS5UOmN6aAOi3Z-qFGg   \n",
       "3   adNS6X4TnaxuFFxzoezGzg  So132GP_uy3XbGs0KNyzyw  tL2pS5UOmN6aAOi3Z-qFGg   \n",
       "4   JyOWXyxpN0PmPAF3OXkfCQ  cZBCVzd4lg_jx8IiFz-Iag  tL2pS5UOmN6aAOi3Z-qFGg   \n",
       "5   ClB81WvkDJwDnHN6evg84w  WzkbnhI-fxdH_tMzT3evtA  tL2pS5UOmN6aAOi3Z-qFGg   \n",
       "6   HBB5H80QrvJO9yp2K8Cnww  -P8dGzSVhJi-5oZ-8U2y0w  tL2pS5UOmN6aAOi3Z-qFGg   \n",
       "7   D9LnScipvugG-DBMinBNGw  yz2EimDE7bBvq6b4mDe_zg  tL2pS5UOmN6aAOi3Z-qFGg   \n",
       "8   8h8_hkjA76CL0WDwazRqDw  T6VKCBhHojQkCWp_IYO24w  tL2pS5UOmN6aAOi3Z-qFGg   \n",
       "9   xGYGeu0zSTqLsUlG-_h6kQ  SVGApDPNdpFlEjwRQThCxA  tL2pS5UOmN6aAOi3Z-qFGg   \n",
       "10  RNLRW8dfpYF2lH75YLPGjQ  QC9bLPcNk6ymAOHf03pHhQ  tL2pS5UOmN6aAOi3Z-qFGg   \n",
       "11  SFjQVy4pREFzU2jCWvAvNg  T00dMi_gQdyQkE9GKJFVSQ  tL2pS5UOmN6aAOi3Z-qFGg   \n",
       "12  Cur8S2QEHuPpx5HXU32rPg  PDIh1lVtKlUqPJROXYJQvQ  3wB-JjsUjkvdNUDRnChsVg   \n",
       "13  9ZbH6x-HkTQb_H8ot8X-Ww  lGy7jJ9oVZUJNkmZj7ewgA  62IDDcERQaYe86babxUa4w   \n",
       "14  sG4M3vRLumEte4F17ypAlw  nnDLapJk1z2NJE0-XzwMlQ  fh_daewOXnMqE0O8o2py-A   \n",
       "\n",
       "                                                 text  stars  \n",
       "0                                                text  stars  \n",
       "1   b\"I've been here a few times over the years. I...      4  \n",
       "2   b\"I used to come here back in the 90s when thi...      1  \n",
       "3   b\"I've eaten here a couple of times. Great foo...      5  \n",
       "4   b\"Have grabbed a quick bite to eat hear many t...      4  \n",
       "5   b'This is one of the best bars in town. Not ma...      5  \n",
       "6   b\"We ate here on a recent visit to Vegas. We f...      3  \n",
       "7   b'Stopped in here recently for breakfast. \\nWe...      2  \n",
       "8   b'Typical McDonalds. Food was typical. Employe...      3  \n",
       "9   b'Stopped in here with my family for dinner to...      4  \n",
       "10  b'Stopped in here recently to grab a bite on t...      4  \n",
       "11  b\"This one is right across the street from me....      4  \n",
       "12  b'The food is good.  It is best for a casual d...      4  \n",
       "13  b'Love this place. I eat breakfast/lunch here ...      4  \n",
       "14  b'Had their \"signature\" dry aged NY strip. Not...      3  "
      ]
     },
     "execution_count": 20,
     "metadata": {},
     "output_type": "execute_result"
    }
   ],
   "source": [
    "reviews_dataset.head(15)"
   ]
  },
  {
   "cell_type": "code",
   "execution_count": 21,
   "metadata": {
    "collapsed": true
   },
   "outputs": [],
   "source": [
    "# text format of b'Review_starts' is beacuse of some encofing stuff, so we will remove it to make our review a \n",
    "# string like 'sample review'"
   ]
  },
  {
   "cell_type": "code",
   "execution_count": null,
   "metadata": {
    "collapsed": true
   },
   "outputs": [],
   "source": []
  }
 ],
 "metadata": {
  "kernelspec": {
   "display_name": "Python 3",
   "language": "python",
   "name": "python3"
  },
  "language_info": {
   "codemirror_mode": {
    "name": "ipython",
    "version": 3
   },
   "file_extension": ".py",
   "mimetype": "text/x-python",
   "name": "python",
   "nbconvert_exporter": "python",
   "pygments_lexer": "ipython3",
   "version": "3.6.3"
  }
 },
 "nbformat": 4,
 "nbformat_minor": 2
}
