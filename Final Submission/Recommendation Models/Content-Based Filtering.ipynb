{
 "cells": [
  {
   "cell_type": "code",
   "execution_count": 6,
   "metadata": {},
   "outputs": [
    {
     "name": "stdout",
     "output_type": "stream",
     "text": [
      "Populating the interactive namespace from numpy and matplotlib\n"
     ]
    }
   ],
   "source": [
    "%pylab inline\n",
    "import warnings\n",
    "warnings.filterwarnings('ignore')"
   ]
  },
  {
   "cell_type": "code",
   "execution_count": 7,
   "metadata": {
    "collapsed": true
   },
   "outputs": [],
   "source": [
    "import pandas as pd\n",
    "import numpy as np\n",
    "import matplotlib.pyplot as plt"
   ]
  },
  {
   "cell_type": "code",
   "execution_count": 8,
   "metadata": {},
   "outputs": [],
   "source": [
    "import pandas as pd\n",
    "import numpy as np\n",
    "from numpy.linalg import norm\n",
    "from sklearn.pipeline import FeatureUnion\n",
    "from transformers import *\n",
    "from scipy.sparse import coo_matrix\n",
    "import simplejson as json\n",
    "from datetime import datetime\n",
    "from sklearn.cross_validation import train_test_split"
   ]
  },
  {
   "cell_type": "code",
   "execution_count": 14,
   "metadata": {},
   "outputs": [
    {
     "name": "stdout",
     "output_type": "stream",
     "text": [
      "Loading user dataset started--------\n",
      "Loading user dataset completed--------\n",
      "Loading business dataset started--------\n",
      "5899\n",
      "Loading business dataset completed--------\n"
     ]
    }
   ],
   "source": [
    "# Loading the dataset\n",
    "\n",
    "# Loading the reviews dataset\n",
    "reviews_frame = pd.read_csv('reviews_restaurants_text.csv')\n",
    "\n",
    "# Loading business and user dataset\n",
    "def get_data(line, columns):\n",
    "    d = json.loads(line)\n",
    "    return dict((key, d[key]) for key in columns)\n",
    "\n",
    "print ('Loading user dataset started--------')\n",
    "\n",
    "# Loading user data\n",
    "columns = ('user_id', 'name','average_stars')\n",
    "with open('user.json') as f:\n",
    "    user_frame = pd.DataFrame(get_data(line, columns) for line in f)\n",
    "user_frame = user_frame.sort_values('user_id')\n",
    "print ('Loading user dataset completed--------')\n",
    "\n",
    "print ('Loading business dataset started--------')\n",
    "\n",
    "# Loading business data\n",
    "columns = ('business_id', 'name','categories','attributes','city','stars')\n",
    "with open('business.json') as f:\n",
    "    business = pd.DataFrame(get_data(line, columns) for line in f)\n",
    "\n",
    "business = business.sort_values('business_id')\n",
    "\n",
    "# Trimming the dataset by city\n",
    "business_by_city = business['city'] == \"Las Vegas\"\n",
    "business = business[business_by_city]\n",
    "\n",
    "# Trimming the dataset by the category 'Restaurants'\n",
    "business_frame = business\n",
    "count = 0\n",
    "for row in business_frame.itertuples():\n",
    "#     count = count + 1\n",
    "#     if (count%5000 == 0):\n",
    "#         print (count)\n",
    "    if 'Restaurants' not in row.categories:\n",
    "        business_frame.drop([row.Index], inplace=True)\n",
    "print (len(business_frame))\n",
    "print ('Loading business dataset completed--------')"
   ]
  },
  {
   "cell_type": "markdown",
   "metadata": {},
   "source": [
    "<font size = '5' style=\"font-weight:bold\">Content Based Filtering Model</font>"
   ]
  },
  {
   "cell_type": "code",
   "execution_count": 10,
   "metadata": {},
   "outputs": [
    {
     "name": "stdout",
     "output_type": "stream",
     "text": [
      "Feature Extraction started---------\n",
      "Feature Extraction completed---------\n"
     ]
    }
   ],
   "source": [
    "# Feature Extraction\n",
    "print ('Feature Extraction started---------')\n",
    "\n",
    "encoding_category = One_Hot_Encoder('categories', 'list', sparse=False)\n",
    "encoding_attribute = One_Hot_Encoder('attributes', 'dict', sparse=False)\n",
    "encoding_city= One_Hot_Encoder('city', 'value', sparse=False)\n",
    "rating = Column_Selector(['stars'])\n",
    "encoding_union = FeatureUnion([ ('cat', encoding_category),('attr', encoding_attribute),('city', encoding_city), ('rating', rating) ])\n",
    "encoding_union.fit(business_frame)\n",
    "\n",
    "print ('Feature Extraction completed---------')"
   ]
  },
  {
   "cell_type": "code",
   "execution_count": 11,
   "metadata": {},
   "outputs": [
    {
     "name": "stdout",
     "output_type": "stream",
     "text": [
      "Businesses for the reviews given by the selected user-----\n",
      "Profile creation started-------\n",
      "Profile creation completed-------\n"
     ]
    }
   ],
   "source": [
    "# Generating profile of the user\n",
    "\n",
    "user = 'tL2pS5UOmN6aAOi3Z-qFGg' \n",
    "\n",
    "print ('Businesses for the reviews given by the selected user-----')\n",
    "\n",
    "reviews_given_by_user = reviews_frame.ix[reviews_frame.user_id == user]\n",
    "reviews_given_by_user['stars'] = reviews_given_by_user['stars'] - float(user_frame.average_stars[user_frame.user_id == user])\n",
    "reviews_given_by_user = reviews_given_by_user.sort_values('business_id')\n",
    "\n",
    "# list of ids of the businesses reviewed by the user\n",
    "reviewed_business_id_list = reviews_given_by_user['business_id'].tolist()\n",
    "reviewed_business = business_frame[business_frame['business_id'].isin(reviewed_business_id_list)]\n",
    "reviewed_business = reviewed_business.sort_values('business_id')\n",
    "\n",
    "print ('Profile creation started-------')\n",
    "\n",
    "features = encoding_union.transform(reviewed_business)\n",
    "profile = np.matrix(reviews_given_by_user.stars) * features\n",
    "\n",
    "print ('Profile creation completed-------')"
   ]
  },
  {
   "cell_type": "code",
   "execution_count": 12,
   "metadata": {},
   "outputs": [
    {
     "name": "stdout",
     "output_type": "stream",
     "text": [
      "Cosine similarity calculation started-----\n",
      "Cosine similarity calculation completed-----\n"
     ]
    }
   ],
   "source": [
    "# Calculating cosine similarity of the unreviewed reviews with the user's profile\n",
    "print ('Cosine similarity calculation started-----')\n",
    "\n",
    "test_frame = business_frame[0:1000]\n",
    "test_frame = test_frame.sort_values('business_id')\n",
    "business_id_list = test_frame['business_id'].tolist()\n",
    "features = encoding_union.transform(test_frame)\n",
    "similarity = np.asarray(profile * features.T) * 1./(norm(profile) * norm(features, axis = 1))\n",
    "\n",
    "print ('Cosine similarity calculation completed-----')"
   ]
  },
  {
   "cell_type": "code",
   "execution_count": 13,
   "metadata": {},
   "outputs": [
    {
     "name": "stdout",
     "output_type": "stream",
     "text": [
      "Hi Mark\n",
      "Check out these restaurants: \n",
      "Chapalas Mexican Restaurants\n",
      "Dal Toro Ristorante\n",
      "Argana\n",
      "Paymons Mediterranean Cafe & Hookah Lounge\n",
      "Wahoo's Fish Tacos\n",
      "Rhodes Ranch Club House Restaurant\n",
      "Payless Pizza #2 and Ribs\n",
      "Krung Siam Thai\n",
      "Mr B's Bar & Grill\n",
      "Andiron Steak & Sea\n"
     ]
    }
   ],
   "source": [
    "# Output the recommended restaurants\n",
    "index_arr = (-similarity).argsort()[:10][0][0:10]\n",
    "print ('Hi ' + user_frame.name[user_frame.user_id == user].values[0] + '\\nCheck out these restaurants: ')\n",
    "for i in index_arr:\n",
    "    resturant = business_frame[business_frame.business_id == business_id_list[i]]\n",
    "    print (str(resturant['name'].values[0]))"
   ]
  }
 ],
 "metadata": {
  "kernelspec": {
   "display_name": "Python 3",
   "language": "python",
   "name": "python3"
  },
  "language_info": {
   "codemirror_mode": {
    "name": "ipython",
    "version": 3
   },
   "file_extension": ".py",
   "mimetype": "text/x-python",
   "name": "python",
   "nbconvert_exporter": "python",
   "pygments_lexer": "ipython3",
   "version": "3.6.3"
  }
 },
 "nbformat": 4,
 "nbformat_minor": 2
}
