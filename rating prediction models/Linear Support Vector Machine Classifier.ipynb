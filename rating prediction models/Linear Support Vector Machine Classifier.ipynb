{
 "cells": [
  {
   "cell_type": "markdown",
   "metadata": {},
   "source": [
    "# Predicting Review rating from review text"
   ]
  },
  {
   "cell_type": "markdown",
   "metadata": {},
   "source": [
    "# <span style=\"color:dodgerblue\"> Linear Support Vector Machine Algorithm </span>"
   ]
  },
  {
   "cell_type": "code",
   "execution_count": 1,
   "metadata": {},
   "outputs": [
    {
     "name": "stdout",
     "output_type": "stream",
     "text": [
      "Populating the interactive namespace from numpy and matplotlib\n"
     ]
    }
   ],
   "source": [
    "%pylab inline\n",
    "import warnings\n",
    "warnings.filterwarnings('ignore')"
   ]
  },
  {
   "cell_type": "code",
   "execution_count": 2,
   "metadata": {
    "collapsed": true
   },
   "outputs": [],
   "source": [
    "from IPython.core.interactiveshell import InteractiveShell\n",
    "InteractiveShell.ast_node_interactivity = \"all\""
   ]
  },
  {
   "cell_type": "code",
   "execution_count": 3,
   "metadata": {
    "collapsed": true
   },
   "outputs": [],
   "source": [
    "# Displaying max-height of 8000 px without scrolling, for cleaner visual representation\n",
    "# source : stackoverflow\n",
    "# https://stackoverflow.com/questions/18770504/resize-ipython-notebook-output-window"
   ]
  },
  {
   "cell_type": "code",
   "execution_count": 4,
   "metadata": {},
   "outputs": [
    {
     "data": {
      "text/html": [
       "<style>\n",
       ".output_wrapper, .output {\n",
       "    height:auto !important;\n",
       "    max-height:2000px;  /* your desired max-height here */\n",
       "}\n",
       ".output_scroll {\n",
       "    box-shadow:none !important;\n",
       "    webkit-box-shadow:none !important;\n",
       "}\n",
       "</style>"
      ],
      "text/plain": [
       "<IPython.core.display.HTML object>"
      ]
     },
     "metadata": {},
     "output_type": "display_data"
    }
   ],
   "source": [
    "%%html\n",
    "<style>\n",
    ".output_wrapper, .output {\n",
    "    height:auto !important;\n",
    "    max-height:2000px;  /* your desired max-height here */\n",
    "}\n",
    ".output_scroll {\n",
    "    box-shadow:none !important;\n",
    "    webkit-box-shadow:none !important;\n",
    "}\n",
    "</style>"
   ]
  },
  {
   "cell_type": "code",
   "execution_count": 5,
   "metadata": {},
   "outputs": [
    {
     "name": "stdout",
     "output_type": "stream",
     "text": [
      "Wall time: 1.08 s\n"
     ]
    }
   ],
   "source": [
    "%%time\n",
    "\n",
    "# Loading libraries\n",
    "\n",
    "import pandas as pd\n",
    "import numpy as np\n",
    "import matplotlib.pyplot as plt\n",
    "import seaborn as sns\n",
    "import nltk\n",
    "from nltk.corpus import stopwords\n",
    "# nltk.download('stopwords')\n",
    "\n",
    "# Dependency: pip install tqdm\n",
    "from tqdm import tqdm_notebook as tqdm\n",
    "\n",
    "from collections import Counter"
   ]
  },
  {
   "cell_type": "code",
   "execution_count": 6,
   "metadata": {
    "collapsed": true
   },
   "outputs": [],
   "source": [
    "# Loading data-set : reviews dataset with reviews of length 100-200 for restaurants ONLY."
   ]
  },
  {
   "cell_type": "code",
   "execution_count": 7,
   "metadata": {},
   "outputs": [
    {
     "data": {
      "text/html": [
       "<div>\n",
       "<style>\n",
       "    .dataframe thead tr:only-child th {\n",
       "        text-align: right;\n",
       "    }\n",
       "\n",
       "    .dataframe thead th {\n",
       "        text-align: left;\n",
       "    }\n",
       "\n",
       "    .dataframe tbody tr th {\n",
       "        vertical-align: top;\n",
       "    }\n",
       "</style>\n",
       "<table border=\"1\" class=\"dataframe\">\n",
       "  <thead>\n",
       "    <tr style=\"text-align: right;\">\n",
       "      <th></th>\n",
       "      <th>review_id</th>\n",
       "      <th>business_id</th>\n",
       "      <th>user_id</th>\n",
       "      <th>text</th>\n",
       "      <th>stars</th>\n",
       "    </tr>\n",
       "  </thead>\n",
       "  <tbody>\n",
       "    <tr>\n",
       "      <th>0</th>\n",
       "      <td>8oFUMhJ7fR2-X3We9TiK7g</td>\n",
       "      <td>kfo1hXvNtGGThfrZGaWtVw</td>\n",
       "      <td>tL2pS5UOmN6aAOi3Z-qFGg</td>\n",
       "      <td>b\"I've been here a few times over the years. I...</td>\n",
       "      <td>4</td>\n",
       "    </tr>\n",
       "    <tr>\n",
       "      <th>1</th>\n",
       "      <td>xryg94pDLOO71veGcQINuQ</td>\n",
       "      <td>dfRAK2mgdHbL2_YsFqtCdQ</td>\n",
       "      <td>tL2pS5UOmN6aAOi3Z-qFGg</td>\n",
       "      <td>b\"I used to come here back in the 90s when thi...</td>\n",
       "      <td>1</td>\n",
       "    </tr>\n",
       "    <tr>\n",
       "      <th>2</th>\n",
       "      <td>adNS6X4TnaxuFFxzoezGzg</td>\n",
       "      <td>So132GP_uy3XbGs0KNyzyw</td>\n",
       "      <td>tL2pS5UOmN6aAOi3Z-qFGg</td>\n",
       "      <td>b\"I've eaten here a couple of times. Great foo...</td>\n",
       "      <td>5</td>\n",
       "    </tr>\n",
       "  </tbody>\n",
       "</table>\n",
       "</div>"
      ],
      "text/plain": [
       "                review_id             business_id                 user_id  \\\n",
       "0  8oFUMhJ7fR2-X3We9TiK7g  kfo1hXvNtGGThfrZGaWtVw  tL2pS5UOmN6aAOi3Z-qFGg   \n",
       "1  xryg94pDLOO71veGcQINuQ  dfRAK2mgdHbL2_YsFqtCdQ  tL2pS5UOmN6aAOi3Z-qFGg   \n",
       "2  adNS6X4TnaxuFFxzoezGzg  So132GP_uy3XbGs0KNyzyw  tL2pS5UOmN6aAOi3Z-qFGg   \n",
       "\n",
       "                                                text  stars  \n",
       "0  b\"I've been here a few times over the years. I...      4  \n",
       "1  b\"I used to come here back in the 90s when thi...      1  \n",
       "2  b\"I've eaten here a couple of times. Great foo...      5  "
      ]
     },
     "metadata": {},
     "output_type": "display_data"
    },
    {
     "name": "stdout",
     "output_type": "stream",
     "text": [
      "Wall time: 773 ms\n"
     ]
    }
   ],
   "source": [
    "%%time\n",
    "\n",
    "# col_names = ['review_id', 'business_id', 'user_id', 'text', 'stars', 'text length']\n",
    "\n",
    "reviews_dataset = pd.read_csv('reviews_restaurants_text.csv', low_memory= False)\n",
    "display(reviews_dataset.head(3))"
   ]
  },
  {
   "cell_type": "code",
   "execution_count": 8,
   "metadata": {},
   "outputs": [
    {
     "name": "stdout",
     "output_type": "stream",
     "text": [
      "Total No. of Reviews: 154737\n"
     ]
    }
   ],
   "source": [
    "# reviews_dataset.shape[0] - gives number of row count\n",
    "print(\"Total No. of Reviews: {}\".format(reviews_dataset.shape[0]))"
   ]
  },
  {
   "cell_type": "code",
   "execution_count": 9,
   "metadata": {},
   "outputs": [
    {
     "data": {
      "text/plain": [
       "(154737, 5)"
      ]
     },
     "execution_count": 9,
     "metadata": {},
     "output_type": "execute_result"
    }
   ],
   "source": [
    "reviews_dataset.shape"
   ]
  },
  {
   "cell_type": "code",
   "execution_count": 10,
   "metadata": {
    "collapsed": true
   },
   "outputs": [],
   "source": [
    "import string\n",
    "def get_clean_text(sample_review):\n",
    "    \n",
    "    '''\n",
    "    Takes in a string of text, then performs the following:\n",
    "    1. Performs case normalization\n",
    "    2. Remove all punctuation\n",
    "    3. Remove all stopwords\n",
    "    4. Return the cleaned text as a list of words\n",
    "    '''\n",
    "    stopwords = nltk.corpus.stopwords.words('english')\n",
    "    newStopWords = ['ive','hadnt','couldnt','didnt', 'id']  ## more can also be added upon analysis\n",
    "    stopwords.extend(newStopWords)\n",
    "    text = sample_review\n",
    "    #display(text)\n",
    "    \n",
    "    # text format of b'Review_starts' is beacuse of some encofing stuff, so we will remove it to make our review a \n",
    "    # string like 'sample review'\n",
    "    text = text[2: len(sample_review)-1].lower()  ##  case normalization\n",
    "    #display(text)\n",
    "    \n",
    "    text = text.replace('\\\\n', ' ').replace('\\\\t', ' ')\n",
    "    #display(text)\n",
    "    nopunc = [char for char in text if char not in string.punctuation]\n",
    "    nopunc = ''.join(nopunc)\n",
    "    \n",
    "    #display(nopunc)\n",
    "    \n",
    "    l = [word for word in nopunc.split() if word.lower() not in stopwords]\n",
    "    clean_text = \"\"\n",
    "    for word in l:\n",
    "        clean_text += str(word)+\" \"\n",
    "    \n",
    "    return clean_text.strip()"
   ]
  },
  {
   "cell_type": "code",
   "execution_count": 11,
   "metadata": {},
   "outputs": [
    {
     "data": {
      "text/plain": [
       "'clean fresh grade quality sushi ingredients friendly accommodating staff pleasure food go create burrito bowl add wasabi aioli im telling'"
      ]
     },
     "metadata": {},
     "output_type": "display_data"
    }
   ],
   "source": [
    "# TEST \n",
    "# get_clean_text()\n",
    "sample_review = reviews_dataset.text[28]\n",
    "display(get_clean_text(sample_review))"
   ]
  },
  {
   "cell_type": "code",
   "execution_count": 12,
   "metadata": {
    "collapsed": true
   },
   "outputs": [],
   "source": [
    "import string\n",
    "def get_words(text):\n",
    "    \n",
    "    '''\n",
    "    Takes in a string of text, then performs the following:\n",
    "    1. Performs case normalization\n",
    "    2. Remove all punctuation\n",
    "    3. Remove all stopwords\n",
    "    4. Return the cleaned text as a list of words\n",
    "    '''\n",
    "    stopwords = nltk.corpus.stopwords.words('english')\n",
    "    newStopWords = ['ive','hadnt','couldnt','didnt', 'id']  ## more can also be added upon analysis\n",
    "    stopwords.extend(newStopWords)\n",
    "    \n",
    "    \n",
    "    # text format of b'Review_starts' is beacuse of some encofing stuff, so we will remove it to make our review a \n",
    "    # string like 'sample review'\n",
    "    text = text[2: len(sample_review)-1].lower()  ##  case normalization\n",
    "    #display(text)\n",
    "    \n",
    "    text = text.replace('\\\\n', ' ').replace('\\\\t', ' ')\n",
    "    display(text)\n",
    "    nopunc = [char for char in text if char not in string.punctuation]\n",
    "    nopunc = ''.join(nopunc)\n",
    "    \n",
    "    display(nopunc)\n",
    "    \n",
    "    l = [word for word in nopunc.split() if word.lower() not in stopwords]\n",
    "    \n",
    "    return l, len(l)"
   ]
  },
  {
   "cell_type": "code",
   "execution_count": 13,
   "metadata": {},
   "outputs": [
    {
     "data": {
      "text/plain": [
       "\"i've been here a few times over the years. i'd probably eat here more if i didn't live on the opposite side of town.  i've always enjoyed my experience here and look forward to eating there again.\""
      ]
     },
     "metadata": {},
     "output_type": "display_data"
    },
    {
     "data": {
      "text/plain": [
       "'ive been here a few times over the years id probably eat here more if i didnt live on the opposite side of town  ive always enjoyed my experience here and look forward to eating there again'"
      ]
     },
     "metadata": {},
     "output_type": "display_data"
    },
    {
     "data": {
      "text/plain": [
       "['times',\n",
       " 'years',\n",
       " 'probably',\n",
       " 'eat',\n",
       " 'live',\n",
       " 'opposite',\n",
       " 'side',\n",
       " 'town',\n",
       " 'always',\n",
       " 'enjoyed',\n",
       " 'experience',\n",
       " 'look',\n",
       " 'forward',\n",
       " 'eating']"
      ]
     },
     "metadata": {},
     "output_type": "display_data"
    }
   ],
   "source": [
    "for i in range(1):\n",
    "    sample_review = str(reviews_dataset.text[i])\n",
    "    #display(sample_review)\n",
    "    check = get_words(sample_review)\n",
    "    display(check[0]) # a tuple"
   ]
  },
  {
   "cell_type": "code",
   "execution_count": 14,
   "metadata": {},
   "outputs": [
    {
     "data": {
      "text/html": [
       "<div>\n",
       "<style>\n",
       "    .dataframe thead tr:only-child th {\n",
       "        text-align: right;\n",
       "    }\n",
       "\n",
       "    .dataframe thead th {\n",
       "        text-align: left;\n",
       "    }\n",
       "\n",
       "    .dataframe tbody tr th {\n",
       "        vertical-align: top;\n",
       "    }\n",
       "</style>\n",
       "<table border=\"1\" class=\"dataframe\">\n",
       "  <thead>\n",
       "    <tr style=\"text-align: right;\">\n",
       "      <th></th>\n",
       "      <th>stars</th>\n",
       "    </tr>\n",
       "  </thead>\n",
       "  <tbody>\n",
       "    <tr>\n",
       "      <th>count</th>\n",
       "      <td>154737.00</td>\n",
       "    </tr>\n",
       "    <tr>\n",
       "      <th>mean</th>\n",
       "      <td>4.08</td>\n",
       "    </tr>\n",
       "    <tr>\n",
       "      <th>std</th>\n",
       "      <td>1.29</td>\n",
       "    </tr>\n",
       "    <tr>\n",
       "      <th>min</th>\n",
       "      <td>1.00</td>\n",
       "    </tr>\n",
       "    <tr>\n",
       "      <th>25%</th>\n",
       "      <td>4.00</td>\n",
       "    </tr>\n",
       "    <tr>\n",
       "      <th>50%</th>\n",
       "      <td>5.00</td>\n",
       "    </tr>\n",
       "    <tr>\n",
       "      <th>75%</th>\n",
       "      <td>5.00</td>\n",
       "    </tr>\n",
       "    <tr>\n",
       "      <th>max</th>\n",
       "      <td>5.00</td>\n",
       "    </tr>\n",
       "  </tbody>\n",
       "</table>\n",
       "</div>"
      ],
      "text/plain": [
       "           stars\n",
       "count  154737.00\n",
       "mean        4.08\n",
       "std         1.29\n",
       "min         1.00\n",
       "25%         4.00\n",
       "50%         5.00\n",
       "75%         5.00\n",
       "max         5.00"
      ]
     },
     "execution_count": 14,
     "metadata": {},
     "output_type": "execute_result"
    }
   ],
   "source": [
    "pd.set_option('display.precision', 2)\n",
    "reviews_dataset.describe()"
   ]
  },
  {
   "cell_type": "code",
   "execution_count": 15,
   "metadata": {},
   "outputs": [
    {
     "data": {
      "text/plain": [
       "5    85332\n",
       "4    33569\n",
       "1    14055\n",
       "3    13382\n",
       "2     8399\n",
       "Name: stars, dtype: int64"
      ]
     },
     "execution_count": 15,
     "metadata": {},
     "output_type": "execute_result"
    },
    {
     "data": {
      "text/plain": [
       "pandas.core.series.Series"
      ]
     },
     "execution_count": 15,
     "metadata": {},
     "output_type": "execute_result"
    }
   ],
   "source": [
    "reviews_dataset[\"stars\"].value_counts()\n",
    "type(reviews_dataset[\"stars\"].value_counts())"
   ]
  },
  {
   "cell_type": "code",
   "execution_count": 16,
   "metadata": {},
   "outputs": [
    {
     "data": {
      "text/plain": [
       "([<matplotlib.patches.Wedge at 0x18d2a0ad780>,\n",
       "  <matplotlib.patches.Wedge at 0x18d2a0ba940>,\n",
       "  <matplotlib.patches.Wedge at 0x18d2a0c2b38>,\n",
       "  <matplotlib.patches.Wedge at 0x18d2a0cbd30>,\n",
       "  <matplotlib.patches.Wedge at 0x18d2a0e2f28>],\n",
       " [<matplotlib.text.Text at 0x18d2a0adef0>,\n",
       "  <matplotlib.text.Text at 0x18d2a0c2128>,\n",
       "  <matplotlib.text.Text at 0x18d2a0cb320>,\n",
       "  <matplotlib.text.Text at 0x18d2a0e2518>,\n",
       "  <matplotlib.text.Text at 0x18d2a0ea710>],\n",
       " [<matplotlib.text.Text at 0x18d2a0ba400>,\n",
       "  <matplotlib.text.Text at 0x18d2a0c25f8>,\n",
       "  <matplotlib.text.Text at 0x18d2a0cb7f0>,\n",
       "  <matplotlib.text.Text at 0x18d2a0e29e8>,\n",
       "  <matplotlib.text.Text at 0x18d2a0eabe0>])"
      ]
     },
     "execution_count": 16,
     "metadata": {},
     "output_type": "execute_result"
    },
    {
     "data": {
      "text/plain": [
       "(-1.0098584524766165, 1.0, -1.0197864874675362, 1.0102893450652646)"
      ]
     },
     "execution_count": 16,
     "metadata": {},
     "output_type": "execute_result"
    },
    {
     "data": {
      "image/png": "[encoded data removed]",
      "text/plain": [
       "<matplotlib.figure.Figure at 0x18d29152898>"
      ]
     },
     "metadata": {},
     "output_type": "display_data"
    }
   ],
   "source": [
    "labels = '5-Stars', '4-Stars', '1-Star', '3-Stars', '2-Stars'\n",
    "sizes = reviews_dataset[\"stars\"].value_counts()\n",
    "colors = ['lightpink', 'yellowgreen', 'orange', 'lightskyblue','green']\n",
    " \n",
    "# Plot\n",
    "plt.pie(sizes, labels=labels, colors =colors, autopct='%1.1f%%') \n",
    "plt.axis('equal')\n",
    "plt.show()"
   ]
  },
  {
   "cell_type": "code",
   "execution_count": 17,
   "metadata": {
    "collapsed": true
   },
   "outputs": [],
   "source": [
    "# Dataset is imbalanced, but it is taken care of by under-sampling when we are using the reviews dataset for recommendations"
   ]
  },
  {
   "cell_type": "markdown",
   "metadata": {},
   "source": [
    "### Loading clean data into texts list"
   ]
  },
  {
   "cell_type": "code",
   "execution_count": 18,
   "metadata": {},
   "outputs": [
    {
     "data": {
      "application/vnd.jupyter.widget-view+json": {
       "model_id": "93b2b704dc6d4f9cb2b5688568d5554f",
       "version_major": 2,
       "version_minor": 0
      },
      "text/plain": [
       "A Jupyter Widget"
      ]
     },
     "metadata": {},
     "output_type": "display_data"
    },
    {
     "name": "stdout",
     "output_type": "stream",
     "text": [
      "\n",
      "Wall time: 1min 45s\n"
     ]
    }
   ],
   "source": [
    "%%time\n",
    "# we're interested in the text of each review \n",
    "# and the stars rating, so we load these into \n",
    "# separate lists\n",
    "\n",
    "texts = []\n",
    "stars = [reviews_dataset['stars'] for review in reviews_dataset]\n",
    "pbar = tqdm(total=reviews_dataset.shape[0]+1)\n",
    "for index, row in reviews_dataset.iterrows():\n",
    "    texts.append(get_clean_text(row['text']))\n",
    "    pbar.update(1)\n",
    "pbar.close()"
   ]
  },
  {
   "cell_type": "code",
   "execution_count": 19,
   "metadata": {
    "collapsed": true
   },
   "outputs": [],
   "source": [
    "# Vectorizing our Text Data - the TF-IDF algorithm along with n-grams\n",
    "# and tokenization (splitting the text into individual words)."
   ]
  },
  {
   "cell_type": "code",
   "execution_count": 20,
   "metadata": {},
   "outputs": [
    {
     "name": "stdout",
     "output_type": "stream",
     "text": [
      "Wall time: 25.5 s\n"
     ]
    }
   ],
   "source": [
    "%%time\n",
    "# Estimated time: 29.8 s\n",
    "from sklearn.feature_extraction.text import TfidfVectorizer\n",
    "\n",
    "# This vectorizer breaks text into single words and bi-grams\n",
    "# and then calculates the TF-IDF representation\n",
    "vectorizer = TfidfVectorizer(ngram_range=(1,3))\n",
    "\n",
    "# the 'fit' builds up the vocabulary from all the reviews\n",
    "# while the 'transform' step turns each indivdual text into\n",
    "# a matrix of numbers.\n",
    "vectors = vectorizer.fit_transform(texts)"
   ]
  },
  {
   "cell_type": "markdown",
   "metadata": {},
   "source": [
    "## Splitting dataset into Train and test Data"
   ]
  },
  {
   "cell_type": "code",
   "execution_count": 21,
   "metadata": {
    "collapsed": true
   },
   "outputs": [],
   "source": [
    "from sklearn.model_selection import train_test_split\n",
    "X_train, X_test, y_train, y_test = train_test_split(vectors, stars[1], test_size=0.15, random_state=42, shuffle =False)"
   ]
  },
  {
   "cell_type": "code",
   "execution_count": 22,
   "metadata": {
    "collapsed": true
   },
   "outputs": [],
   "source": [
    "# We now have 15% of our data in X_test and y_test. We’ll teach our system using 85%\n",
    "# of the data (X_train and y_train), and then see how well it does by comparing its predictions for \n",
    "# the reviews in X_test with the real ratings in y_test."
   ]
  },
  {
   "cell_type": "markdown",
   "metadata": {},
   "source": [
    "## Fitting a Classifier and Making Predictions\n",
    "The classifier we’ll use is a Linear Support Vector Machine (SVM), \n",
    "which has been shown to perform well on several text classifications tasks."
   ]
  },
  {
   "cell_type": "code",
   "execution_count": 23,
   "metadata": {},
   "outputs": [
    {
     "name": "stdout",
     "output_type": "stream",
     "text": [
      "Wall time: 15.7 s\n"
     ]
    }
   ],
   "source": [
    "%%time\n",
    "# Estimated time: 12.6 s\n",
    "from sklearn.svm import LinearSVC\n",
    "\n",
    "# initialise the SVM classifier\n",
    "classifier = LinearSVC()\n",
    "\n",
    "# train the classifier\n",
    "classifier.fit(X_train, y_train)"
   ]
  },
  {
   "cell_type": "code",
   "execution_count": 24,
   "metadata": {
    "collapsed": true
   },
   "outputs": [],
   "source": [
    "# classifier has been fitted, it can now be used to make predictions. \n",
    "# predicting the rating for the first ten reviews in our test set"
   ]
  },
  {
   "cell_type": "code",
   "execution_count": 25,
   "metadata": {},
   "outputs": [
    {
     "name": "stdout",
     "output_type": "stream",
     "text": [
      "Actual Ratings(Stars): "
     ]
    },
    {
     "data": {
      "text/plain": [
       "131526    3\n",
       "131527    1\n",
       "131528    3\n",
       "131529    3\n",
       "131530    4\n",
       "Name: stars, dtype: int64"
      ]
     },
     "metadata": {},
     "output_type": "display_data"
    },
    {
     "name": "stdout",
     "output_type": "stream",
     "text": [
      "Predicted Ratings: [3 2 4 5 5]\n"
     ]
    }
   ],
   "source": [
    "# Using our trained classifier to predict the ratings from text\n",
    "\n",
    "preds = classifier.predict(X_test)\n",
    "print(\"Actual Ratings(Stars): \",end = \"\")\n",
    "display(y_test[:5])\n",
    "print(\"Predicted Ratings: \",end = \"\")\n",
    "print(preds[:5])"
   ]
  },
  {
   "cell_type": "markdown",
   "metadata": {},
   "source": [
    "## <span style=\"color:orangered\"> Observations </span>"
   ]
  },
  {
   "cell_type": "markdown",
   "metadata": {},
   "source": [
    "<b>  Example:\n",
    "<br> The model predicts a different rating(2) based on features of the review text, for acutal rating index 131527 (which is 1) </b>"
   ]
  },
  {
   "cell_type": "code",
   "execution_count": 26,
   "metadata": {
    "collapsed": true
   },
   "outputs": [],
   "source": [
    "# Predicting for entire dataset\n",
    "\n",
    "X_null, X_full_test, y_null, y_full_test = train_test_split(vectors, stars[1], test_size=0.999995, random_state=42, shuffle = False)\n",
    "predict_all = classifier.predict(X_full_test)"
   ]
  },
  {
   "cell_type": "code",
   "execution_count": 27,
   "metadata": {},
   "outputs": [
    {
     "name": "stdout",
     "output_type": "stream",
     "text": [
      "Actual Ratings(Stars): \n",
      "154730    5\n",
      "154731    4\n",
      "154732    4\n",
      "154733    3\n",
      "154734    4\n",
      "154735    1\n",
      "Name: stars, dtype: int64\n",
      "\n",
      "Predicted Ratings: [5, 5, 4, 5, 4, 5]\n"
     ]
    }
   ],
   "source": [
    "predicted_stars = list(predict_all)\n",
    "\n",
    "print(\"Actual Ratings(Stars): \")\n",
    "print(y_full_test[154730:154736])\n",
    "print(\"\\nPredicted Ratings: \",end = \"\")\n",
    "print(predicted_stars[154730:154736])"
   ]
  },
  {
   "cell_type": "code",
   "execution_count": 28,
   "metadata": {
    "collapsed": true
   },
   "outputs": [],
   "source": [
    "# Making new CSVs from dataframe"
   ]
  },
  {
   "cell_type": "code",
   "execution_count": 29,
   "metadata": {},
   "outputs": [
    {
     "name": "stdout",
     "output_type": "stream",
     "text": [
      "\n",
      "Original Reviews (with user bias)\n"
     ]
    },
    {
     "data": {
      "text/html": [
       "<div>\n",
       "<style>\n",
       "    .dataframe thead tr:only-child th {\n",
       "        text-align: right;\n",
       "    }\n",
       "\n",
       "    .dataframe thead th {\n",
       "        text-align: left;\n",
       "    }\n",
       "\n",
       "    .dataframe tbody tr th {\n",
       "        vertical-align: top;\n",
       "    }\n",
       "</style>\n",
       "<table border=\"1\" class=\"dataframe\">\n",
       "  <thead>\n",
       "    <tr style=\"text-align: right;\">\n",
       "      <th></th>\n",
       "      <th>review_id</th>\n",
       "      <th>business_id</th>\n",
       "      <th>user_id</th>\n",
       "      <th>text</th>\n",
       "      <th>stars</th>\n",
       "    </tr>\n",
       "  </thead>\n",
       "  <tbody>\n",
       "    <tr>\n",
       "      <th>154727</th>\n",
       "      <td>mrZi82Hmgx5UO5gVXLE4Cw</td>\n",
       "      <td>anrLWKAKm3hFLcJpbhEDUg</td>\n",
       "      <td>-Ve_iU4LrfV5hh9Ca8AMkQ</td>\n",
       "      <td>b\"Shane was honestly the funniest and nicest s...</td>\n",
       "      <td>5</td>\n",
       "    </tr>\n",
       "    <tr>\n",
       "      <th>154728</th>\n",
       "      <td>zmRR9Sp1um0d2MfyatmUrA</td>\n",
       "      <td>YQ--LJ7pvjiDSqNv0TuKTQ</td>\n",
       "      <td>UBQq6S_FsZQa4J8cS_6Wzw</td>\n",
       "      <td>b'Solid 4-star pizza joint! We had great servi...</td>\n",
       "      <td>4</td>\n",
       "    </tr>\n",
       "    <tr>\n",
       "      <th>154729</th>\n",
       "      <td>5aCzF_praG32ikbr4Fj3uw</td>\n",
       "      <td>D8a2usm9b-j89W9IrJ_Evw</td>\n",
       "      <td>Rex_y8h-BRx_Xzc9A6u-_g</td>\n",
       "      <td>b\"I always come here when I'm in Vegas for the...</td>\n",
       "      <td>3</td>\n",
       "    </tr>\n",
       "    <tr>\n",
       "      <th>154730</th>\n",
       "      <td>-dr3GveFriZqgw38T1lpMA</td>\n",
       "      <td>rbcfYmJtqwIkk17IeOI5Kw</td>\n",
       "      <td>iI-Tzs2jfDhdOfocBFiLMQ</td>\n",
       "      <td>b'Great ambiance, excellent cocktails, good se...</td>\n",
       "      <td>5</td>\n",
       "    </tr>\n",
       "    <tr>\n",
       "      <th>154731</th>\n",
       "      <td>XIcczbWfDSQoKJBiUEoU2Q</td>\n",
       "      <td>6fPQJq4f_yiq1NHn0fd11Q</td>\n",
       "      <td>IqIpCfg0qDhIkaUJGKzlyw</td>\n",
       "      <td>b'have a crepe in paris :) You can get full of...</td>\n",
       "      <td>4</td>\n",
       "    </tr>\n",
       "    <tr>\n",
       "      <th>154732</th>\n",
       "      <td>I1Kt09IdYr6Je9Eikod0jg</td>\n",
       "      <td>hroo5nOO8b9QhHX0GLg7oA</td>\n",
       "      <td>zaasTFLY_SX-2Uj2zlHUmQ</td>\n",
       "      <td>b'Service is fast here n the pho is good along...</td>\n",
       "      <td>4</td>\n",
       "    </tr>\n",
       "    <tr>\n",
       "      <th>154733</th>\n",
       "      <td>W5Heng3eRVJJTNVo5gJmSw</td>\n",
       "      <td>DkYS3arLOhA8si5uUEmHOw</td>\n",
       "      <td>AOFDB60pjiXby08lx5HHYQ</td>\n",
       "      <td>b\"Why is this place so highly rated? It's just...</td>\n",
       "      <td>3</td>\n",
       "    </tr>\n",
       "    <tr>\n",
       "      <th>154734</th>\n",
       "      <td>ODGDaWgm5gi3NeVDytm9Qw</td>\n",
       "      <td>Xspg78dOvuedvuPEUwZBjw</td>\n",
       "      <td>AOFDB60pjiXby08lx5HHYQ</td>\n",
       "      <td>b'Ordered the extra hot latte.  Place is prett...</td>\n",
       "      <td>4</td>\n",
       "    </tr>\n",
       "    <tr>\n",
       "      <th>154735</th>\n",
       "      <td>YYMoqTFxli1k9wQceIo_xA</td>\n",
       "      <td>HUKbH7r9TBJPri6LJbBKtw</td>\n",
       "      <td>iXwIKbN2NNlB6QPZwZvrZw</td>\n",
       "      <td>b'All the reviews must be from friends or fami...</td>\n",
       "      <td>1</td>\n",
       "    </tr>\n",
       "    <tr>\n",
       "      <th>154736</th>\n",
       "      <td>o-QGNfLQ36FtR-UK5H1TFA</td>\n",
       "      <td>Q7m8G4579-XYKV3LMW8V7g</td>\n",
       "      <td>67tsUtcLuP5mwTFm3-mrzA</td>\n",
       "      <td>b\"Walked across the street from HRH for a late...</td>\n",
       "      <td>4</td>\n",
       "    </tr>\n",
       "  </tbody>\n",
       "</table>\n",
       "</div>"
      ],
      "text/plain": [
       "                     review_id             business_id  \\\n",
       "154727  mrZi82Hmgx5UO5gVXLE4Cw  anrLWKAKm3hFLcJpbhEDUg   \n",
       "154728  zmRR9Sp1um0d2MfyatmUrA  YQ--LJ7pvjiDSqNv0TuKTQ   \n",
       "154729  5aCzF_praG32ikbr4Fj3uw  D8a2usm9b-j89W9IrJ_Evw   \n",
       "154730  -dr3GveFriZqgw38T1lpMA  rbcfYmJtqwIkk17IeOI5Kw   \n",
       "154731  XIcczbWfDSQoKJBiUEoU2Q  6fPQJq4f_yiq1NHn0fd11Q   \n",
       "154732  I1Kt09IdYr6Je9Eikod0jg  hroo5nOO8b9QhHX0GLg7oA   \n",
       "154733  W5Heng3eRVJJTNVo5gJmSw  DkYS3arLOhA8si5uUEmHOw   \n",
       "154734  ODGDaWgm5gi3NeVDytm9Qw  Xspg78dOvuedvuPEUwZBjw   \n",
       "154735  YYMoqTFxli1k9wQceIo_xA  HUKbH7r9TBJPri6LJbBKtw   \n",
       "154736  o-QGNfLQ36FtR-UK5H1TFA  Q7m8G4579-XYKV3LMW8V7g   \n",
       "\n",
       "                       user_id  \\\n",
       "154727  -Ve_iU4LrfV5hh9Ca8AMkQ   \n",
       "154728  UBQq6S_FsZQa4J8cS_6Wzw   \n",
       "154729  Rex_y8h-BRx_Xzc9A6u-_g   \n",
       "154730  iI-Tzs2jfDhdOfocBFiLMQ   \n",
       "154731  IqIpCfg0qDhIkaUJGKzlyw   \n",
       "154732  zaasTFLY_SX-2Uj2zlHUmQ   \n",
       "154733  AOFDB60pjiXby08lx5HHYQ   \n",
       "154734  AOFDB60pjiXby08lx5HHYQ   \n",
       "154735  iXwIKbN2NNlB6QPZwZvrZw   \n",
       "154736  67tsUtcLuP5mwTFm3-mrzA   \n",
       "\n",
       "                                                     text  stars  \n",
       "154727  b\"Shane was honestly the funniest and nicest s...      5  \n",
       "154728  b'Solid 4-star pizza joint! We had great servi...      4  \n",
       "154729  b\"I always come here when I'm in Vegas for the...      3  \n",
       "154730  b'Great ambiance, excellent cocktails, good se...      5  \n",
       "154731  b'have a crepe in paris :) You can get full of...      4  \n",
       "154732  b'Service is fast here n the pho is good along...      4  \n",
       "154733  b\"Why is this place so highly rated? It's just...      3  \n",
       "154734  b'Ordered the extra hot latte.  Place is prett...      4  \n",
       "154735  b'All the reviews must be from friends or fami...      1  \n",
       "154736  b\"Walked across the street from HRH for a late...      4  "
      ]
     },
     "metadata": {},
     "output_type": "display_data"
    },
    {
     "name": "stdout",
     "output_type": "stream",
     "text": [
      "\n",
      "Unbiased Reviews (with predicted rating using user's review text)\n"
     ]
    },
    {
     "data": {
      "text/html": [
       "<div>\n",
       "<style>\n",
       "    .dataframe thead tr:only-child th {\n",
       "        text-align: right;\n",
       "    }\n",
       "\n",
       "    .dataframe thead th {\n",
       "        text-align: left;\n",
       "    }\n",
       "\n",
       "    .dataframe tbody tr th {\n",
       "        vertical-align: top;\n",
       "    }\n",
       "</style>\n",
       "<table border=\"1\" class=\"dataframe\">\n",
       "  <thead>\n",
       "    <tr style=\"text-align: right;\">\n",
       "      <th></th>\n",
       "      <th>review_id</th>\n",
       "      <th>business_id</th>\n",
       "      <th>user_id</th>\n",
       "      <th>text</th>\n",
       "      <th>stars</th>\n",
       "    </tr>\n",
       "  </thead>\n",
       "  <tbody>\n",
       "    <tr>\n",
       "      <th>154727</th>\n",
       "      <td>mrZi82Hmgx5UO5gVXLE4Cw</td>\n",
       "      <td>anrLWKAKm3hFLcJpbhEDUg</td>\n",
       "      <td>-Ve_iU4LrfV5hh9Ca8AMkQ</td>\n",
       "      <td>b\"Shane was honestly the funniest and nicest s...</td>\n",
       "      <td>5</td>\n",
       "    </tr>\n",
       "    <tr>\n",
       "      <th>154728</th>\n",
       "      <td>zmRR9Sp1um0d2MfyatmUrA</td>\n",
       "      <td>YQ--LJ7pvjiDSqNv0TuKTQ</td>\n",
       "      <td>UBQq6S_FsZQa4J8cS_6Wzw</td>\n",
       "      <td>b'Solid 4-star pizza joint! We had great servi...</td>\n",
       "      <td>4</td>\n",
       "    </tr>\n",
       "    <tr>\n",
       "      <th>154729</th>\n",
       "      <td>5aCzF_praG32ikbr4Fj3uw</td>\n",
       "      <td>D8a2usm9b-j89W9IrJ_Evw</td>\n",
       "      <td>Rex_y8h-BRx_Xzc9A6u-_g</td>\n",
       "      <td>b\"I always come here when I'm in Vegas for the...</td>\n",
       "      <td>5</td>\n",
       "    </tr>\n",
       "    <tr>\n",
       "      <th>154730</th>\n",
       "      <td>-dr3GveFriZqgw38T1lpMA</td>\n",
       "      <td>rbcfYmJtqwIkk17IeOI5Kw</td>\n",
       "      <td>iI-Tzs2jfDhdOfocBFiLMQ</td>\n",
       "      <td>b'Great ambiance, excellent cocktails, good se...</td>\n",
       "      <td>5</td>\n",
       "    </tr>\n",
       "    <tr>\n",
       "      <th>154731</th>\n",
       "      <td>XIcczbWfDSQoKJBiUEoU2Q</td>\n",
       "      <td>6fPQJq4f_yiq1NHn0fd11Q</td>\n",
       "      <td>IqIpCfg0qDhIkaUJGKzlyw</td>\n",
       "      <td>b'have a crepe in paris :) You can get full of...</td>\n",
       "      <td>5</td>\n",
       "    </tr>\n",
       "    <tr>\n",
       "      <th>154732</th>\n",
       "      <td>I1Kt09IdYr6Je9Eikod0jg</td>\n",
       "      <td>hroo5nOO8b9QhHX0GLg7oA</td>\n",
       "      <td>zaasTFLY_SX-2Uj2zlHUmQ</td>\n",
       "      <td>b'Service is fast here n the pho is good along...</td>\n",
       "      <td>4</td>\n",
       "    </tr>\n",
       "    <tr>\n",
       "      <th>154733</th>\n",
       "      <td>W5Heng3eRVJJTNVo5gJmSw</td>\n",
       "      <td>DkYS3arLOhA8si5uUEmHOw</td>\n",
       "      <td>AOFDB60pjiXby08lx5HHYQ</td>\n",
       "      <td>b\"Why is this place so highly rated? It's just...</td>\n",
       "      <td>5</td>\n",
       "    </tr>\n",
       "    <tr>\n",
       "      <th>154734</th>\n",
       "      <td>ODGDaWgm5gi3NeVDytm9Qw</td>\n",
       "      <td>Xspg78dOvuedvuPEUwZBjw</td>\n",
       "      <td>AOFDB60pjiXby08lx5HHYQ</td>\n",
       "      <td>b'Ordered the extra hot latte.  Place is prett...</td>\n",
       "      <td>4</td>\n",
       "    </tr>\n",
       "    <tr>\n",
       "      <th>154735</th>\n",
       "      <td>YYMoqTFxli1k9wQceIo_xA</td>\n",
       "      <td>HUKbH7r9TBJPri6LJbBKtw</td>\n",
       "      <td>iXwIKbN2NNlB6QPZwZvrZw</td>\n",
       "      <td>b'All the reviews must be from friends or fami...</td>\n",
       "      <td>5</td>\n",
       "    </tr>\n",
       "    <tr>\n",
       "      <th>154736</th>\n",
       "      <td>o-QGNfLQ36FtR-UK5H1TFA</td>\n",
       "      <td>Q7m8G4579-XYKV3LMW8V7g</td>\n",
       "      <td>67tsUtcLuP5mwTFm3-mrzA</td>\n",
       "      <td>b\"Walked across the street from HRH for a late...</td>\n",
       "      <td>5</td>\n",
       "    </tr>\n",
       "  </tbody>\n",
       "</table>\n",
       "</div>"
      ],
      "text/plain": [
       "                     review_id             business_id  \\\n",
       "154727  mrZi82Hmgx5UO5gVXLE4Cw  anrLWKAKm3hFLcJpbhEDUg   \n",
       "154728  zmRR9Sp1um0d2MfyatmUrA  YQ--LJ7pvjiDSqNv0TuKTQ   \n",
       "154729  5aCzF_praG32ikbr4Fj3uw  D8a2usm9b-j89W9IrJ_Evw   \n",
       "154730  -dr3GveFriZqgw38T1lpMA  rbcfYmJtqwIkk17IeOI5Kw   \n",
       "154731  XIcczbWfDSQoKJBiUEoU2Q  6fPQJq4f_yiq1NHn0fd11Q   \n",
       "154732  I1Kt09IdYr6Je9Eikod0jg  hroo5nOO8b9QhHX0GLg7oA   \n",
       "154733  W5Heng3eRVJJTNVo5gJmSw  DkYS3arLOhA8si5uUEmHOw   \n",
       "154734  ODGDaWgm5gi3NeVDytm9Qw  Xspg78dOvuedvuPEUwZBjw   \n",
       "154735  YYMoqTFxli1k9wQceIo_xA  HUKbH7r9TBJPri6LJbBKtw   \n",
       "154736  o-QGNfLQ36FtR-UK5H1TFA  Q7m8G4579-XYKV3LMW8V7g   \n",
       "\n",
       "                       user_id  \\\n",
       "154727  -Ve_iU4LrfV5hh9Ca8AMkQ   \n",
       "154728  UBQq6S_FsZQa4J8cS_6Wzw   \n",
       "154729  Rex_y8h-BRx_Xzc9A6u-_g   \n",
       "154730  iI-Tzs2jfDhdOfocBFiLMQ   \n",
       "154731  IqIpCfg0qDhIkaUJGKzlyw   \n",
       "154732  zaasTFLY_SX-2Uj2zlHUmQ   \n",
       "154733  AOFDB60pjiXby08lx5HHYQ   \n",
       "154734  AOFDB60pjiXby08lx5HHYQ   \n",
       "154735  iXwIKbN2NNlB6QPZwZvrZw   \n",
       "154736  67tsUtcLuP5mwTFm3-mrzA   \n",
       "\n",
       "                                                     text  stars  \n",
       "154727  b\"Shane was honestly the funniest and nicest s...      5  \n",
       "154728  b'Solid 4-star pizza joint! We had great servi...      4  \n",
       "154729  b\"I always come here when I'm in Vegas for the...      5  \n",
       "154730  b'Great ambiance, excellent cocktails, good se...      5  \n",
       "154731  b'have a crepe in paris :) You can get full of...      5  \n",
       "154732  b'Service is fast here n the pho is good along...      4  \n",
       "154733  b\"Why is this place so highly rated? It's just...      5  \n",
       "154734  b'Ordered the extra hot latte.  Place is prett...      4  \n",
       "154735  b'All the reviews must be from friends or fami...      5  \n",
       "154736  b\"Walked across the street from HRH for a late...      5  "
      ]
     },
     "metadata": {},
     "output_type": "display_data"
    }
   ],
   "source": [
    "print(\"\\nOriginal Reviews (with user bias)\")\n",
    "display(reviews_dataset.tail(10))\n",
    "\n",
    "print(\"\\nUnbiased Reviews (with predicted rating using user's review text)\")\n",
    "unbiased_reviews_dataset = reviews_dataset\n",
    "\n",
    "# dropping actual ratings(stars) by user\n",
    "unbiased_reviews_dataset = unbiased_reviews_dataset.drop('stars', 1)\n",
    "\n",
    "# adding the unbiased predicted rating\n",
    "unbiased_reviews_dataset['stars'] = predicted_stars\n",
    "\n",
    "display(unbiased_reviews_dataset.tail(10))"
   ]
  },
  {
   "cell_type": "code",
   "execution_count": 30,
   "metadata": {
    "collapsed": true
   },
   "outputs": [],
   "source": [
    "# write dataframe to csv\n",
    "file_name = \"reviews_restaurants_text_unbiased_svm.csv\"\n",
    "unbiased_reviews_dataset.to_csv(file_name, encoding='utf-8', index=False)"
   ]
  },
  {
   "cell_type": "code",
   "execution_count": 31,
   "metadata": {
    "collapsed": true
   },
   "outputs": [],
   "source": [
    "# testing unbiased rating by loading from new csv file\n",
    "\n",
    "#new_reviews_dataset = pd.read_csv('reviews_restaurants_text_unbiased_svm.csv', low_memory= False)\n",
    "#display(new_reviews_dataset.tail(10))"
   ]
  },
  {
   "cell_type": "markdown",
   "metadata": {},
   "source": [
    "## Evaluating our Classifier"
   ]
  },
  {
   "cell_type": "code",
   "execution_count": 32,
   "metadata": {
    "collapsed": true
   },
   "outputs": [],
   "source": [
    "# simplest method for evaluating such a system is to see the percentage of the time it accurately predicts the desired answer. \n",
    "# This method is unsurprisingly called accuracy. We can calculate the accuracy of our system by comparing the predicted reviews \n",
    "# and the real reviews–when they are the same, our classifier predicted the review correctly.\n",
    "# We sum up all of the correct answers and divide by the total number of reviews in our test set. \n",
    "# If this number is equal to 1, it means our classifier was spot on every time."
   ]
  },
  {
   "cell_type": "markdown",
   "metadata": {},
   "source": [
    "## <span style=\"color:orangered\"> Accuracy of the model </span>"
   ]
  },
  {
   "cell_type": "code",
   "execution_count": 33,
   "metadata": {},
   "outputs": [
    {
     "name": "stdout",
     "output_type": "stream",
     "text": [
      "0.691223988626\n"
     ]
    }
   ],
   "source": [
    "from sklearn.metrics import accuracy_score\n",
    "print(accuracy_score(y_test, preds))"
   ]
  },
  {
   "cell_type": "code",
   "execution_count": 34,
   "metadata": {
    "collapsed": true
   },
   "outputs": [],
   "source": [
    "# Precision and Recall are better for evaluating rather than using just accuracy measure."
   ]
  },
  {
   "cell_type": "markdown",
   "metadata": {},
   "source": [
    "## <span style=\"color:orangered\"> Precision and Recall of the model</span>"
   ]
  },
  {
   "cell_type": "code",
   "execution_count": 35,
   "metadata": {},
   "outputs": [
    {
     "name": "stdout",
     "output_type": "stream",
     "text": [
      "Precision: 0.652086074503\n",
      "Recall: 0.691223988626\n"
     ]
    }
   ],
   "source": [
    "from sklearn.metrics import precision_score\n",
    "from sklearn.metrics import recall_score\n",
    "print ('Precision: ' + str(precision_score(y_test, preds, average='weighted')))\n",
    "print ('Recall: ' + str(recall_score(y_test, preds, average='weighted')))"
   ]
  },
  {
   "cell_type": "markdown",
   "metadata": {},
   "source": [
    "## <span style=\"color:orangered\"> Classification Report </span>"
   ]
  },
  {
   "cell_type": "code",
   "execution_count": 36,
   "metadata": {},
   "outputs": [
    {
     "name": "stdout",
     "output_type": "stream",
     "text": [
      "             precision    recall  f1-score   support\n",
      "\n",
      "          1       0.69      0.78      0.74      2120\n",
      "          2       0.45      0.16      0.24      1257\n",
      "          3       0.52      0.31      0.39      1957\n",
      "          4       0.48      0.30      0.37      4920\n",
      "          5       0.75      0.93      0.83     12957\n",
      "\n",
      "avg / total       0.65      0.69      0.66     23211\n",
      "\n"
     ]
    }
   ],
   "source": [
    "from sklearn.metrics import classification_report\n",
    "print(classification_report(y_test, preds))"
   ]
  },
  {
   "cell_type": "markdown",
   "metadata": {},
   "source": [
    "## <span style=\"color:orangered\"> Plotting Confusion Metrics </span>"
   ]
  },
  {
   "cell_type": "code",
   "execution_count": 37,
   "metadata": {
    "collapsed": true
   },
   "outputs": [],
   "source": [
    "## Helper function for plotting confusion metrics\n",
    "\n",
    "# citation: http://scikit-learn.org/stable/auto_examples/model_selection/plot_confusion_matrix.html#sphx-glr-auto-examples-model-selection-plot-confusion-matrix-py\n",
    "import itertools  \n",
    "def plot_confusion_matrix(cm, classes,\n",
    "                          normalize=False,\n",
    "                          title='Confusion matrix',\n",
    "                          cmap=plt.cm.Blues):\n",
    "    \"\"\"\n",
    "    This function prints and plots the confusion matrix.\n",
    "    Normalization can be applied by setting `normalize=True`.\n",
    "    \"\"\"\n",
    "    if normalize:\n",
    "        cm = cm.astype('float') / cm.sum(axis=1)[:, np.newaxis]\n",
    "        print(\"Normalized confusion matrix\")\n",
    "    else:\n",
    "        print('Confusion matrix, without normalization')\n",
    "\n",
    "    print(cm)\n",
    "\n",
    "    plt.imshow(cm, interpolation='nearest', cmap=cmap)\n",
    "    plt.title(title)\n",
    "    plt.colorbar()\n",
    "    tick_marks = np.arange(len(classes))\n",
    "    plt.xticks(tick_marks, classes, rotation=45)\n",
    "    plt.yticks(tick_marks, classes)\n",
    "\n",
    "    fmt = '.2f' if normalize else 'd'\n",
    "    thresh = cm.max() / 2.\n",
    "    for i, j in itertools.product(range(cm.shape[0]), range(cm.shape[1])):\n",
    "        plt.text(j, i, format(cm[i, j], fmt),\n",
    "                 horizontalalignment=\"center\",\n",
    "                 color=\"white\" if cm[i, j] > thresh else \"black\")\n",
    "\n",
    "    plt.tight_layout()\n",
    "    plt.ylabel('True label')\n",
    "    plt.xlabel('Predicted label')"
   ]
  },
  {
   "cell_type": "code",
   "execution_count": 38,
   "metadata": {},
   "outputs": [
    {
     "data": {
      "text/plain": [
       "<matplotlib.figure.Figure at 0x18d381a9e80>"
      ]
     },
     "execution_count": 38,
     "metadata": {},
     "output_type": "execute_result"
    },
    {
     "name": "stdout",
     "output_type": "stream",
     "text": [
      "Confusion matrix, without normalization\n",
      "[[ 1657   116    92    68   187]\n",
      " [  467   204   247   156   183]\n",
      " [  172   116   601   616   452]\n",
      " [   56    12   189  1483  3180]\n",
      " [   33     3    26   796 12099]]\n"
     ]
    },
    {
     "data": {
      "text/plain": [
       "<matplotlib.figure.Figure at 0x18d381db3c8>"
      ]
     },
     "execution_count": 38,
     "metadata": {},
     "output_type": "execute_result"
    },
    {
     "name": "stdout",
     "output_type": "stream",
     "text": [
      "Normalized confusion matrix\n",
      "[[  7.82e-01   5.47e-02   4.34e-02   3.21e-02   8.82e-02]\n",
      " [  3.72e-01   1.62e-01   1.96e-01   1.24e-01   1.46e-01]\n",
      " [  8.79e-02   5.93e-02   3.07e-01   3.15e-01   2.31e-01]\n",
      " [  1.14e-02   2.44e-03   3.84e-02   3.01e-01   6.46e-01]\n",
      " [  2.55e-03   2.32e-04   2.01e-03   6.14e-02   9.34e-01]]\n"
     ]
    },
    {
     "data": {
      "image/png": "[encoded data removed]",
      "text/plain": [
       "<matplotlib.figure.Figure at 0x18d381a9e80>"
      ]
     },
     "metadata": {},
     "output_type": "display_data"
    },
    {
     "data": {
      "image/png": "[encoded data removed]",
      "text/plain": [
       "<matplotlib.figure.Figure at 0x18d381db3c8>"
      ]
     },
     "metadata": {},
     "output_type": "display_data"
    }
   ],
   "source": [
    "from sklearn import metrics\n",
    "names = ['1','2','3','4','5']\n",
    "\n",
    "# Compute confusion matrix\n",
    "cnf_matrix = metrics.confusion_matrix(y_test, preds)\n",
    "np.set_printoptions(precision=2)\n",
    "\n",
    "# Plot non-normalized confusion matrix\n",
    "plt.figure()\n",
    "plot_confusion_matrix(cnf_matrix, classes=names,\n",
    "                      title='Confusion matrix, without normalization')\n",
    "\n",
    "# Plot normalized confusion matrix\n",
    "plt.figure()\n",
    "plot_confusion_matrix(cnf_matrix, classes=names, normalize=True,\n",
    "                      title='Normalized confusion matrix')\n",
    "\n",
    "plt.show()"
   ]
  },
  {
   "cell_type": "markdown",
   "metadata": {},
   "source": [
    "# <span style=\"color:dodgerblue\"> Predicting  positive and negative sentiments </span>"
   ]
  },
  {
   "cell_type": "code",
   "execution_count": 39,
   "metadata": {},
   "outputs": [
    {
     "name": "stdout",
     "output_type": "stream",
     "text": [
      "154737\n"
     ]
    }
   ],
   "source": [
    "# making binary classes\n",
    "sentiments = []\n",
    "for star in stars[1]:\n",
    "    if star <= 3:\n",
    "        sentiments.append('n')\n",
    "    if star > 3:\n",
    "        sentiments.append('p')\n",
    "\n",
    "print(len(sentiments))        \n",
    "        \n",
    "## to see the effect without including 3, we need to undersample"
   ]
  },
  {
   "cell_type": "code",
   "execution_count": 40,
   "metadata": {},
   "outputs": [
    {
     "name": "stdout",
     "output_type": "stream",
     "text": [
      "Wall time: 441 ms\n"
     ]
    }
   ],
   "source": [
    "%%time\n",
    "\n",
    "X2_train, X2_test, y2_train, y2_test = train_test_split(vectors, sentiments, test_size=0.20, random_state=42)"
   ]
  },
  {
   "cell_type": "code",
   "execution_count": 41,
   "metadata": {},
   "outputs": [
    {
     "name": "stdout",
     "output_type": "stream",
     "text": [
      "Wall time: 2.46 s\n"
     ]
    }
   ],
   "source": [
    "%%time\n",
    "\n",
    "classifier2 = LinearSVC()\n",
    "# train the classifier\n",
    "classifier2.fit(X2_train, y2_train)"
   ]
  },
  {
   "cell_type": "code",
   "execution_count": 42,
   "metadata": {},
   "outputs": [
    {
     "name": "stdout",
     "output_type": "stream",
     "text": [
      "Actual Class:    ['p', 'p', 'n', 'p', 'n', 'p', 'p', 'p', 'p', 'n']\n",
      "\n",
      "Predicted Class: ['p', 'p', 'n', 'p', 'n', 'p', 'p', 'p', 'n', 'p']\n"
     ]
    }
   ],
   "source": [
    "preds2 = classifier2.predict(X2_test)\n",
    "print(\"Actual Class:    \",end = \"\")\n",
    "print(y2_test[:10])\n",
    "print(\"\\nPredicted Class: \",end = \"\")\n",
    "print(list(preds2[:10]))"
   ]
  },
  {
   "cell_type": "markdown",
   "metadata": {},
   "source": [
    "## Evaluating our Binary Classifier"
   ]
  },
  {
   "cell_type": "markdown",
   "metadata": {},
   "source": [
    "## <span style=\"color:orangered\"> Accuracy of the model </span>"
   ]
  },
  {
   "cell_type": "code",
   "execution_count": 43,
   "metadata": {},
   "outputs": [
    {
     "name": "stdout",
     "output_type": "stream",
     "text": [
      "0.926231097325\n"
     ]
    }
   ],
   "source": [
    "print(accuracy_score(y2_test, preds2))"
   ]
  },
  {
   "cell_type": "markdown",
   "metadata": {},
   "source": [
    "## <span style=\"color:orangered\"> Precision and Recall of the model</span>"
   ]
  },
  {
   "cell_type": "code",
   "execution_count": 44,
   "metadata": {},
   "outputs": [
    {
     "name": "stdout",
     "output_type": "stream",
     "text": [
      "Precision: 0.92486379599\n",
      "Recall: 0.926231097325\n"
     ]
    }
   ],
   "source": [
    "from sklearn.metrics import precision_score\n",
    "from sklearn.metrics import recall_score\n",
    "print ('Precision: ' + str(precision_score(y2_test, preds2, average='weighted')))\n",
    "print ('Recall: ' + str(recall_score(y2_test, preds2, average='weighted')))"
   ]
  },
  {
   "cell_type": "markdown",
   "metadata": {},
   "source": [
    "## <span style=\"color:orangered\"> Classification Report </span>"
   ]
  },
  {
   "cell_type": "code",
   "execution_count": 45,
   "metadata": {},
   "outputs": [
    {
     "name": "stdout",
     "output_type": "stream",
     "text": [
      "             precision    recall  f1-score   support\n",
      "\n",
      "          n       0.89      0.77      0.83      7032\n",
      "          p       0.93      0.97      0.95     23916\n",
      "\n",
      "avg / total       0.92      0.93      0.92     30948\n",
      "\n"
     ]
    }
   ],
   "source": [
    "print(classification_report(y2_test, preds2))"
   ]
  },
  {
   "cell_type": "markdown",
   "metadata": {},
   "source": [
    "## <span style=\"color:orangered\"> Plotting Confusion Metrics </span>"
   ]
  },
  {
   "cell_type": "code",
   "execution_count": 46,
   "metadata": {},
   "outputs": [
    {
     "name": "stdout",
     "output_type": "stream",
     "text": [
      "[[ 5415  1617]\n",
      " [  666 23250]]\n"
     ]
    }
   ],
   "source": [
    "print(metrics.confusion_matrix(y2_test, preds2))"
   ]
  },
  {
   "cell_type": "code",
   "execution_count": 47,
   "metadata": {},
   "outputs": [
    {
     "data": {
      "text/plain": [
       "<matplotlib.figure.Figure at 0x18d2e3e40b8>"
      ]
     },
     "execution_count": 47,
     "metadata": {},
     "output_type": "execute_result"
    },
    {
     "name": "stdout",
     "output_type": "stream",
     "text": [
      "Confusion matrix, without normalization\n",
      "[[ 5415  1617]\n",
      " [  666 23250]]\n"
     ]
    },
    {
     "data": {
      "text/plain": [
       "<matplotlib.figure.Figure at 0x18d2a11f940>"
      ]
     },
     "execution_count": 47,
     "metadata": {},
     "output_type": "execute_result"
    },
    {
     "name": "stdout",
     "output_type": "stream",
     "text": [
      "Normalized confusion matrix\n",
      "[[ 0.77  0.23]\n",
      " [ 0.03  0.97]]\n"
     ]
    },
    {
     "data": {
      "image/png": "[encoded data removed]",
      "text/plain": [
       "<matplotlib.figure.Figure at 0x18d2e3e40b8>"
      ]
     },
     "metadata": {},
     "output_type": "display_data"
    },
    {
     "data": {
      "image/png": "[encoded data removed]",
      "text/plain": [
       "<matplotlib.figure.Figure at 0x18d2a11f940>"
      ]
     },
     "metadata": {},
     "output_type": "display_data"
    }
   ],
   "source": [
    "class_names = ['negative','positive']\n",
    "\n",
    "# Compute confusion matrix\n",
    "cnf_matrix = metrics.confusion_matrix(y2_test, preds2)\n",
    "np.set_printoptions(precision=2)\n",
    "\n",
    "# Plot non-normalized confusion matrix\n",
    "plt.figure()\n",
    "plot_confusion_matrix(cnf_matrix, classes=class_names,\n",
    "                      title='Confusion matrix, without normalization')\n",
    "\n",
    "# Plot normalized confusion matrix\n",
    "plt.figure()\n",
    "plot_confusion_matrix(cnf_matrix, classes=class_names, normalize=True,\n",
    "                      title='Normalized confusion matrix')\n",
    "\n",
    "plt.show()"
   ]
  }
 ],
 "metadata": {
  "kernelspec": {
   "display_name": "Python 3",
   "language": "python",
   "name": "python3"
  },
  "language_info": {
   "codemirror_mode": {
    "name": "ipython",
    "version": 3
   },
   "file_extension": ".py",
   "mimetype": "text/x-python",
   "name": "python",
   "nbconvert_exporter": "python",
   "pygments_lexer": "ipython3",
   "version": "3.6.3"
  }
 },
 "nbformat": 4,
 "nbformat_minor": 2
}
